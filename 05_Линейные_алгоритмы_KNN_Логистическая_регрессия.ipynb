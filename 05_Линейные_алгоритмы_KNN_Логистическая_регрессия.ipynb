{
  "nbformat": 4,
  "nbformat_minor": 0,
  "metadata": {
    "colab": {
      "provenance": [],
      "include_colab_link": true
    },
    "kernelspec": {
      "name": "python3",
      "display_name": "Python 3"
    },
    "language_info": {
      "name": "python"
    }
  },
  "cells": [
    {
      "cell_type": "markdown",
      "metadata": {
        "id": "view-in-github",
        "colab_type": "text"
      },
      "source": [
        "<a href=\"https://colab.research.google.com/github/JuliaKoryukova/Machine-Learning/blob/main/%D0%9B%D0%B8%D0%BD%D0%B5%D0%B9%D0%BD%D1%8B%D0%B5_%D0%B0%D0%BB%D0%B3%D0%BE%D1%80%D0%B8%D1%82%D0%BC%D1%8B_KNN_%D0%9B%D0%BE%D0%B3%D0%B8%D1%81%D1%82%D0%B8%D1%87%D0%B5%D1%81%D0%BA%D0%B0%D1%8F_%D1%80%D0%B5%D0%B3%D1%80%D0%B5%D1%81%D1%81%D0%B8%D1%8F.ipynb\" target=\"_parent\"><img src=\"https://colab.research.google.com/assets/colab-badge.svg\" alt=\"Open In Colab\"/></a>"
      ]
    },
    {
      "cell_type": "markdown",
      "source": [
        "<font color='1A9BFF' size='6'>Линейные алгоритмы: KNN, Логистическая регрессия</font>  \n"
      ],
      "metadata": {
        "id": "76z8QI2Ew7kA"
      }
    },
    {
      "cell_type": "markdown",
      "source": [
        "<font color='1A9BFF'>**Установка и импорт необходимых библиотек**</font>"
      ],
      "metadata": {
        "id": "_lFJ8mU82x64"
      }
    },
    {
      "cell_type": "code",
      "source": [
        "# для обработки категориальных переменных\n",
        "!pip install category_encoders -q"
      ],
      "metadata": {
        "id": "R4v3sa4Qw6P_",
        "colab": {
          "base_uri": "https://localhost:8080/"
        },
        "outputId": "a93be2f0-3b45-41c2-b1b1-9620801a4368"
      },
      "execution_count": null,
      "outputs": [
        {
          "output_type": "stream",
          "name": "stdout",
          "text": [
            "\u001b[?25l     \u001b[90m━━━━━━━━━━━━━━━━━━━━━━━━━━━━━━━━━━━━━━━━\u001b[0m \u001b[32m0.0/81.9 kB\u001b[0m \u001b[31m?\u001b[0m eta \u001b[36m-:--:--\u001b[0m\r\u001b[2K     \u001b[91m━━━━━━━━━━\u001b[0m\u001b[90m╺\u001b[0m\u001b[90m━━━━━━━━━━━━━━━━━━━━━━━━━━━━━\u001b[0m \u001b[32m20.5/81.9 kB\u001b[0m \u001b[31m480.8 kB/s\u001b[0m eta \u001b[36m0:00:01\u001b[0m\r\u001b[2K     \u001b[91m━━━━━━━━━━━━━━━━━━━━━━━━━━━━━━━━━━━\u001b[0m\u001b[90m╺\u001b[0m\u001b[90m━━━━\u001b[0m \u001b[32m71.7/81.9 kB\u001b[0m \u001b[31m858.0 kB/s\u001b[0m eta \u001b[36m0:00:01\u001b[0m\r\u001b[2K     \u001b[90m━━━━━━━━━━━━━━━━━━━━━━━━━━━━━━━━━━━━━━━━\u001b[0m \u001b[32m81.9/81.9 kB\u001b[0m \u001b[31m763.1 kB/s\u001b[0m eta \u001b[36m0:00:00\u001b[0m\n",
            "\u001b[?25h"
          ]
        }
      ]
    },
    {
      "cell_type": "code",
      "source": [
        "import seaborn as sns\n",
        "import numpy as np\n",
        "import pandas as pd\n",
        "import matplotlib.pyplot as plt\n",
        "import category_encoders as ce\n",
        "from sklearn.linear_model import LogisticRegression\n",
        "from sklearn.model_selection import train_test_split, GridSearchCV, cross_val_score, RandomizedSearchCV\n",
        "from sklearn.neighbors import KNeighborsClassifier, KNeighborsRegressor\n",
        "from sklearn.metrics import accuracy_score, mean_squared_error, confusion_matrix, precision_score, recall_score, roc_auc_score, f1_score, roc_curve\n",
        "from sklearn.preprocessing import StandardScaler,OneHotEncoder, LabelEncoder\n"
      ],
      "metadata": {
        "id": "m5xFidqvp_re"
      },
      "execution_count": null,
      "outputs": []
    },
    {
      "cell_type": "markdown",
      "source": [
        "<font color='1A9BFF'>**Загрузка набора данных титаник**</font>"
      ],
      "metadata": {
        "id": "QRgw4FHdtWRK"
      }
    },
    {
      "cell_type": "code",
      "source": [
        "df = sns.load_dataset('titanic')"
      ],
      "metadata": {
        "id": "-Wp6Y_TAmOly"
      },
      "execution_count": null,
      "outputs": []
    },
    {
      "cell_type": "markdown",
      "source": [
        "## EDA"
      ],
      "metadata": {
        "id": "6Ejw5RPl6nBh"
      }
    },
    {
      "cell_type": "markdown",
      "source": [
        "<font color='1A9BFF'>**Первые 5 строк**</font>"
      ],
      "metadata": {
        "id": "_fWSpdiipsuh"
      }
    },
    {
      "cell_type": "code",
      "source": [
        "df.head(5)"
      ],
      "metadata": {
        "id": "54N3N1FPm9b0",
        "colab": {
          "base_uri": "https://localhost:8080/",
          "height": 206
        },
        "outputId": "938d18ef-c381-4495-dceb-f49a2bdb9bc5"
      },
      "execution_count": null,
      "outputs": [
        {
          "output_type": "execute_result",
          "data": {
            "text/plain": [
              "   survived  pclass     sex   age  sibsp  parch     fare embarked  class  \\\n",
              "0         0       3    male  22.0      1      0   7.2500        S  Third   \n",
              "1         1       1  female  38.0      1      0  71.2833        C  First   \n",
              "2         1       3  female  26.0      0      0   7.9250        S  Third   \n",
              "3         1       1  female  35.0      1      0  53.1000        S  First   \n",
              "4         0       3    male  35.0      0      0   8.0500        S  Third   \n",
              "\n",
              "     who  adult_male deck  embark_town alive  alone  \n",
              "0    man        True  NaN  Southampton    no  False  \n",
              "1  woman       False    C    Cherbourg   yes  False  \n",
              "2  woman       False  NaN  Southampton   yes   True  \n",
              "3  woman       False    C  Southampton   yes  False  \n",
              "4    man        True  NaN  Southampton    no   True  "
            ],
            "text/html": [
              "\n",
              "  <div id=\"df-1e234bef-6984-4bb8-8749-9a55a92bc06f\" class=\"colab-df-container\">\n",
              "    <div>\n",
              "<style scoped>\n",
              "    .dataframe tbody tr th:only-of-type {\n",
              "        vertical-align: middle;\n",
              "    }\n",
              "\n",
              "    .dataframe tbody tr th {\n",
              "        vertical-align: top;\n",
              "    }\n",
              "\n",
              "    .dataframe thead th {\n",
              "        text-align: right;\n",
              "    }\n",
              "</style>\n",
              "<table border=\"1\" class=\"dataframe\">\n",
              "  <thead>\n",
              "    <tr style=\"text-align: right;\">\n",
              "      <th></th>\n",
              "      <th>survived</th>\n",
              "      <th>pclass</th>\n",
              "      <th>sex</th>\n",
              "      <th>age</th>\n",
              "      <th>sibsp</th>\n",
              "      <th>parch</th>\n",
              "      <th>fare</th>\n",
              "      <th>embarked</th>\n",
              "      <th>class</th>\n",
              "      <th>who</th>\n",
              "      <th>adult_male</th>\n",
              "      <th>deck</th>\n",
              "      <th>embark_town</th>\n",
              "      <th>alive</th>\n",
              "      <th>alone</th>\n",
              "    </tr>\n",
              "  </thead>\n",
              "  <tbody>\n",
              "    <tr>\n",
              "      <th>0</th>\n",
              "      <td>0</td>\n",
              "      <td>3</td>\n",
              "      <td>male</td>\n",
              "      <td>22.0</td>\n",
              "      <td>1</td>\n",
              "      <td>0</td>\n",
              "      <td>7.2500</td>\n",
              "      <td>S</td>\n",
              "      <td>Third</td>\n",
              "      <td>man</td>\n",
              "      <td>True</td>\n",
              "      <td>NaN</td>\n",
              "      <td>Southampton</td>\n",
              "      <td>no</td>\n",
              "      <td>False</td>\n",
              "    </tr>\n",
              "    <tr>\n",
              "      <th>1</th>\n",
              "      <td>1</td>\n",
              "      <td>1</td>\n",
              "      <td>female</td>\n",
              "      <td>38.0</td>\n",
              "      <td>1</td>\n",
              "      <td>0</td>\n",
              "      <td>71.2833</td>\n",
              "      <td>C</td>\n",
              "      <td>First</td>\n",
              "      <td>woman</td>\n",
              "      <td>False</td>\n",
              "      <td>C</td>\n",
              "      <td>Cherbourg</td>\n",
              "      <td>yes</td>\n",
              "      <td>False</td>\n",
              "    </tr>\n",
              "    <tr>\n",
              "      <th>2</th>\n",
              "      <td>1</td>\n",
              "      <td>3</td>\n",
              "      <td>female</td>\n",
              "      <td>26.0</td>\n",
              "      <td>0</td>\n",
              "      <td>0</td>\n",
              "      <td>7.9250</td>\n",
              "      <td>S</td>\n",
              "      <td>Third</td>\n",
              "      <td>woman</td>\n",
              "      <td>False</td>\n",
              "      <td>NaN</td>\n",
              "      <td>Southampton</td>\n",
              "      <td>yes</td>\n",
              "      <td>True</td>\n",
              "    </tr>\n",
              "    <tr>\n",
              "      <th>3</th>\n",
              "      <td>1</td>\n",
              "      <td>1</td>\n",
              "      <td>female</td>\n",
              "      <td>35.0</td>\n",
              "      <td>1</td>\n",
              "      <td>0</td>\n",
              "      <td>53.1000</td>\n",
              "      <td>S</td>\n",
              "      <td>First</td>\n",
              "      <td>woman</td>\n",
              "      <td>False</td>\n",
              "      <td>C</td>\n",
              "      <td>Southampton</td>\n",
              "      <td>yes</td>\n",
              "      <td>False</td>\n",
              "    </tr>\n",
              "    <tr>\n",
              "      <th>4</th>\n",
              "      <td>0</td>\n",
              "      <td>3</td>\n",
              "      <td>male</td>\n",
              "      <td>35.0</td>\n",
              "      <td>0</td>\n",
              "      <td>0</td>\n",
              "      <td>8.0500</td>\n",
              "      <td>S</td>\n",
              "      <td>Third</td>\n",
              "      <td>man</td>\n",
              "      <td>True</td>\n",
              "      <td>NaN</td>\n",
              "      <td>Southampton</td>\n",
              "      <td>no</td>\n",
              "      <td>True</td>\n",
              "    </tr>\n",
              "  </tbody>\n",
              "</table>\n",
              "</div>\n",
              "    <div class=\"colab-df-buttons\">\n",
              "\n",
              "  <div class=\"colab-df-container\">\n",
              "    <button class=\"colab-df-convert\" onclick=\"convertToInteractive('df-1e234bef-6984-4bb8-8749-9a55a92bc06f')\"\n",
              "            title=\"Convert this dataframe to an interactive table.\"\n",
              "            style=\"display:none;\">\n",
              "\n",
              "  <svg xmlns=\"http://www.w3.org/2000/svg\" height=\"24px\" viewBox=\"0 -960 960 960\">\n",
              "    <path d=\"M120-120v-720h720v720H120Zm60-500h600v-160H180v160Zm220 220h160v-160H400v160Zm0 220h160v-160H400v160ZM180-400h160v-160H180v160Zm440 0h160v-160H620v160ZM180-180h160v-160H180v160Zm440 0h160v-160H620v160Z\"/>\n",
              "  </svg>\n",
              "    </button>\n",
              "\n",
              "  <style>\n",
              "    .colab-df-container {\n",
              "      display:flex;\n",
              "      gap: 12px;\n",
              "    }\n",
              "\n",
              "    .colab-df-convert {\n",
              "      background-color: #E8F0FE;\n",
              "      border: none;\n",
              "      border-radius: 50%;\n",
              "      cursor: pointer;\n",
              "      display: none;\n",
              "      fill: #1967D2;\n",
              "      height: 32px;\n",
              "      padding: 0 0 0 0;\n",
              "      width: 32px;\n",
              "    }\n",
              "\n",
              "    .colab-df-convert:hover {\n",
              "      background-color: #E2EBFA;\n",
              "      box-shadow: 0px 1px 2px rgba(60, 64, 67, 0.3), 0px 1px 3px 1px rgba(60, 64, 67, 0.15);\n",
              "      fill: #174EA6;\n",
              "    }\n",
              "\n",
              "    .colab-df-buttons div {\n",
              "      margin-bottom: 4px;\n",
              "    }\n",
              "\n",
              "    [theme=dark] .colab-df-convert {\n",
              "      background-color: #3B4455;\n",
              "      fill: #D2E3FC;\n",
              "    }\n",
              "\n",
              "    [theme=dark] .colab-df-convert:hover {\n",
              "      background-color: #434B5C;\n",
              "      box-shadow: 0px 1px 3px 1px rgba(0, 0, 0, 0.15);\n",
              "      filter: drop-shadow(0px 1px 2px rgba(0, 0, 0, 0.3));\n",
              "      fill: #FFFFFF;\n",
              "    }\n",
              "  </style>\n",
              "\n",
              "    <script>\n",
              "      const buttonEl =\n",
              "        document.querySelector('#df-1e234bef-6984-4bb8-8749-9a55a92bc06f button.colab-df-convert');\n",
              "      buttonEl.style.display =\n",
              "        google.colab.kernel.accessAllowed ? 'block' : 'none';\n",
              "\n",
              "      async function convertToInteractive(key) {\n",
              "        const element = document.querySelector('#df-1e234bef-6984-4bb8-8749-9a55a92bc06f');\n",
              "        const dataTable =\n",
              "          await google.colab.kernel.invokeFunction('convertToInteractive',\n",
              "                                                    [key], {});\n",
              "        if (!dataTable) return;\n",
              "\n",
              "        const docLinkHtml = 'Like what you see? Visit the ' +\n",
              "          '<a target=\"_blank\" href=https://colab.research.google.com/notebooks/data_table.ipynb>data table notebook</a>'\n",
              "          + ' to learn more about interactive tables.';\n",
              "        element.innerHTML = '';\n",
              "        dataTable['output_type'] = 'display_data';\n",
              "        await google.colab.output.renderOutput(dataTable, element);\n",
              "        const docLink = document.createElement('div');\n",
              "        docLink.innerHTML = docLinkHtml;\n",
              "        element.appendChild(docLink);\n",
              "      }\n",
              "    </script>\n",
              "  </div>\n",
              "\n",
              "\n",
              "<div id=\"df-851c9e1c-ba31-421c-a958-5bbafe512c89\">\n",
              "  <button class=\"colab-df-quickchart\" onclick=\"quickchart('df-851c9e1c-ba31-421c-a958-5bbafe512c89')\"\n",
              "            title=\"Suggest charts\"\n",
              "            style=\"display:none;\">\n",
              "\n",
              "<svg xmlns=\"http://www.w3.org/2000/svg\" height=\"24px\"viewBox=\"0 0 24 24\"\n",
              "     width=\"24px\">\n",
              "    <g>\n",
              "        <path d=\"M19 3H5c-1.1 0-2 .9-2 2v14c0 1.1.9 2 2 2h14c1.1 0 2-.9 2-2V5c0-1.1-.9-2-2-2zM9 17H7v-7h2v7zm4 0h-2V7h2v10zm4 0h-2v-4h2v4z\"/>\n",
              "    </g>\n",
              "</svg>\n",
              "  </button>\n",
              "\n",
              "<style>\n",
              "  .colab-df-quickchart {\n",
              "      --bg-color: #E8F0FE;\n",
              "      --fill-color: #1967D2;\n",
              "      --hover-bg-color: #E2EBFA;\n",
              "      --hover-fill-color: #174EA6;\n",
              "      --disabled-fill-color: #AAA;\n",
              "      --disabled-bg-color: #DDD;\n",
              "  }\n",
              "\n",
              "  [theme=dark] .colab-df-quickchart {\n",
              "      --bg-color: #3B4455;\n",
              "      --fill-color: #D2E3FC;\n",
              "      --hover-bg-color: #434B5C;\n",
              "      --hover-fill-color: #FFFFFF;\n",
              "      --disabled-bg-color: #3B4455;\n",
              "      --disabled-fill-color: #666;\n",
              "  }\n",
              "\n",
              "  .colab-df-quickchart {\n",
              "    background-color: var(--bg-color);\n",
              "    border: none;\n",
              "    border-radius: 50%;\n",
              "    cursor: pointer;\n",
              "    display: none;\n",
              "    fill: var(--fill-color);\n",
              "    height: 32px;\n",
              "    padding: 0;\n",
              "    width: 32px;\n",
              "  }\n",
              "\n",
              "  .colab-df-quickchart:hover {\n",
              "    background-color: var(--hover-bg-color);\n",
              "    box-shadow: 0 1px 2px rgba(60, 64, 67, 0.3), 0 1px 3px 1px rgba(60, 64, 67, 0.15);\n",
              "    fill: var(--button-hover-fill-color);\n",
              "  }\n",
              "\n",
              "  .colab-df-quickchart-complete:disabled,\n",
              "  .colab-df-quickchart-complete:disabled:hover {\n",
              "    background-color: var(--disabled-bg-color);\n",
              "    fill: var(--disabled-fill-color);\n",
              "    box-shadow: none;\n",
              "  }\n",
              "\n",
              "  .colab-df-spinner {\n",
              "    border: 2px solid var(--fill-color);\n",
              "    border-color: transparent;\n",
              "    border-bottom-color: var(--fill-color);\n",
              "    animation:\n",
              "      spin 1s steps(1) infinite;\n",
              "  }\n",
              "\n",
              "  @keyframes spin {\n",
              "    0% {\n",
              "      border-color: transparent;\n",
              "      border-bottom-color: var(--fill-color);\n",
              "      border-left-color: var(--fill-color);\n",
              "    }\n",
              "    20% {\n",
              "      border-color: transparent;\n",
              "      border-left-color: var(--fill-color);\n",
              "      border-top-color: var(--fill-color);\n",
              "    }\n",
              "    30% {\n",
              "      border-color: transparent;\n",
              "      border-left-color: var(--fill-color);\n",
              "      border-top-color: var(--fill-color);\n",
              "      border-right-color: var(--fill-color);\n",
              "    }\n",
              "    40% {\n",
              "      border-color: transparent;\n",
              "      border-right-color: var(--fill-color);\n",
              "      border-top-color: var(--fill-color);\n",
              "    }\n",
              "    60% {\n",
              "      border-color: transparent;\n",
              "      border-right-color: var(--fill-color);\n",
              "    }\n",
              "    80% {\n",
              "      border-color: transparent;\n",
              "      border-right-color: var(--fill-color);\n",
              "      border-bottom-color: var(--fill-color);\n",
              "    }\n",
              "    90% {\n",
              "      border-color: transparent;\n",
              "      border-bottom-color: var(--fill-color);\n",
              "    }\n",
              "  }\n",
              "</style>\n",
              "\n",
              "  <script>\n",
              "    async function quickchart(key) {\n",
              "      const quickchartButtonEl =\n",
              "        document.querySelector('#' + key + ' button');\n",
              "      quickchartButtonEl.disabled = true;  // To prevent multiple clicks.\n",
              "      quickchartButtonEl.classList.add('colab-df-spinner');\n",
              "      try {\n",
              "        const charts = await google.colab.kernel.invokeFunction(\n",
              "            'suggestCharts', [key], {});\n",
              "      } catch (error) {\n",
              "        console.error('Error during call to suggestCharts:', error);\n",
              "      }\n",
              "      quickchartButtonEl.classList.remove('colab-df-spinner');\n",
              "      quickchartButtonEl.classList.add('colab-df-quickchart-complete');\n",
              "    }\n",
              "    (() => {\n",
              "      let quickchartButtonEl =\n",
              "        document.querySelector('#df-851c9e1c-ba31-421c-a958-5bbafe512c89 button');\n",
              "      quickchartButtonEl.style.display =\n",
              "        google.colab.kernel.accessAllowed ? 'block' : 'none';\n",
              "    })();\n",
              "  </script>\n",
              "</div>\n",
              "    </div>\n",
              "  </div>\n"
            ],
            "application/vnd.google.colaboratory.intrinsic+json": {
              "type": "dataframe",
              "variable_name": "df",
              "summary": "{\n  \"name\": \"df\",\n  \"rows\": 891,\n  \"fields\": [\n    {\n      \"column\": \"survived\",\n      \"properties\": {\n        \"dtype\": \"number\",\n        \"std\": 0,\n        \"min\": 0,\n        \"max\": 1,\n        \"num_unique_values\": 2,\n        \"samples\": [\n          1,\n          0\n        ],\n        \"semantic_type\": \"\",\n        \"description\": \"\"\n      }\n    },\n    {\n      \"column\": \"pclass\",\n      \"properties\": {\n        \"dtype\": \"number\",\n        \"std\": 0,\n        \"min\": 1,\n        \"max\": 3,\n        \"num_unique_values\": 3,\n        \"samples\": [\n          3,\n          1\n        ],\n        \"semantic_type\": \"\",\n        \"description\": \"\"\n      }\n    },\n    {\n      \"column\": \"sex\",\n      \"properties\": {\n        \"dtype\": \"category\",\n        \"num_unique_values\": 2,\n        \"samples\": [\n          \"female\",\n          \"male\"\n        ],\n        \"semantic_type\": \"\",\n        \"description\": \"\"\n      }\n    },\n    {\n      \"column\": \"age\",\n      \"properties\": {\n        \"dtype\": \"number\",\n        \"std\": 14.526497332334042,\n        \"min\": 0.42,\n        \"max\": 80.0,\n        \"num_unique_values\": 88,\n        \"samples\": [\n          0.75,\n          22.0\n        ],\n        \"semantic_type\": \"\",\n        \"description\": \"\"\n      }\n    },\n    {\n      \"column\": \"sibsp\",\n      \"properties\": {\n        \"dtype\": \"number\",\n        \"std\": 1,\n        \"min\": 0,\n        \"max\": 8,\n        \"num_unique_values\": 7,\n        \"samples\": [\n          1,\n          0\n        ],\n        \"semantic_type\": \"\",\n        \"description\": \"\"\n      }\n    },\n    {\n      \"column\": \"parch\",\n      \"properties\": {\n        \"dtype\": \"number\",\n        \"std\": 0,\n        \"min\": 0,\n        \"max\": 6,\n        \"num_unique_values\": 7,\n        \"samples\": [\n          0,\n          1\n        ],\n        \"semantic_type\": \"\",\n        \"description\": \"\"\n      }\n    },\n    {\n      \"column\": \"fare\",\n      \"properties\": {\n        \"dtype\": \"number\",\n        \"std\": 49.6934285971809,\n        \"min\": 0.0,\n        \"max\": 512.3292,\n        \"num_unique_values\": 248,\n        \"samples\": [\n          11.2417,\n          51.8625\n        ],\n        \"semantic_type\": \"\",\n        \"description\": \"\"\n      }\n    },\n    {\n      \"column\": \"embarked\",\n      \"properties\": {\n        \"dtype\": \"category\",\n        \"num_unique_values\": 3,\n        \"samples\": [\n          \"S\",\n          \"C\"\n        ],\n        \"semantic_type\": \"\",\n        \"description\": \"\"\n      }\n    },\n    {\n      \"column\": \"class\",\n      \"properties\": {\n        \"dtype\": \"category\",\n        \"num_unique_values\": 3,\n        \"samples\": [\n          \"Third\",\n          \"First\"\n        ],\n        \"semantic_type\": \"\",\n        \"description\": \"\"\n      }\n    },\n    {\n      \"column\": \"who\",\n      \"properties\": {\n        \"dtype\": \"category\",\n        \"num_unique_values\": 3,\n        \"samples\": [\n          \"man\",\n          \"woman\"\n        ],\n        \"semantic_type\": \"\",\n        \"description\": \"\"\n      }\n    },\n    {\n      \"column\": \"adult_male\",\n      \"properties\": {\n        \"dtype\": \"boolean\",\n        \"num_unique_values\": 2,\n        \"samples\": [\n          false,\n          true\n        ],\n        \"semantic_type\": \"\",\n        \"description\": \"\"\n      }\n    },\n    {\n      \"column\": \"deck\",\n      \"properties\": {\n        \"dtype\": \"category\",\n        \"num_unique_values\": 7,\n        \"samples\": [\n          \"C\",\n          \"E\"\n        ],\n        \"semantic_type\": \"\",\n        \"description\": \"\"\n      }\n    },\n    {\n      \"column\": \"embark_town\",\n      \"properties\": {\n        \"dtype\": \"category\",\n        \"num_unique_values\": 3,\n        \"samples\": [\n          \"Southampton\",\n          \"Cherbourg\"\n        ],\n        \"semantic_type\": \"\",\n        \"description\": \"\"\n      }\n    },\n    {\n      \"column\": \"alive\",\n      \"properties\": {\n        \"dtype\": \"category\",\n        \"num_unique_values\": 2,\n        \"samples\": [\n          \"yes\",\n          \"no\"\n        ],\n        \"semantic_type\": \"\",\n        \"description\": \"\"\n      }\n    },\n    {\n      \"column\": \"alone\",\n      \"properties\": {\n        \"dtype\": \"boolean\",\n        \"num_unique_values\": 2,\n        \"samples\": [\n          true,\n          false\n        ],\n        \"semantic_type\": \"\",\n        \"description\": \"\"\n      }\n    }\n  ]\n}"
            }
          },
          "metadata": {},
          "execution_count": 5
        }
      ]
    },
    {
      "cell_type": "code",
      "source": [
        "df.shape"
      ],
      "metadata": {
        "colab": {
          "base_uri": "https://localhost:8080/"
        },
        "id": "udsQvREuLfND",
        "outputId": "86f49a45-3e61-41c9-eee1-bd2cdd5e3b19"
      },
      "execution_count": null,
      "outputs": [
        {
          "output_type": "execute_result",
          "data": {
            "text/plain": [
              "(891, 15)"
            ]
          },
          "metadata": {},
          "execution_count": 6
        }
      ]
    },
    {
      "cell_type": "markdown",
      "source": [
        "<font color='1A9BFF'>**Проверка, все ли типы данных верные.**</font>\n",
        "\n"
      ],
      "metadata": {
        "id": "UWDXPyR2qFWq"
      }
    },
    {
      "cell_type": "code",
      "source": [
        "df.dtypes"
      ],
      "metadata": {
        "id": "TG0xK7XmqMDG",
        "colab": {
          "base_uri": "https://localhost:8080/"
        },
        "outputId": "d1a23a11-00e8-4fae-afab-7815ef35151d"
      },
      "execution_count": null,
      "outputs": [
        {
          "output_type": "execute_result",
          "data": {
            "text/plain": [
              "survived          int64\n",
              "pclass            int64\n",
              "sex              object\n",
              "age             float64\n",
              "sibsp             int64\n",
              "parch             int64\n",
              "fare            float64\n",
              "embarked         object\n",
              "class          category\n",
              "who              object\n",
              "adult_male         bool\n",
              "deck           category\n",
              "embark_town      object\n",
              "alive            object\n",
              "alone              bool\n",
              "dtype: object"
            ]
          },
          "metadata": {},
          "execution_count": 7
        }
      ]
    },
    {
      "cell_type": "markdown",
      "source": [
        "<font color='1A9BFF'>**Проверка на пропуски**</font>\n",
        "\n"
      ],
      "metadata": {
        "id": "Lv6wJzhj5QYW"
      }
    },
    {
      "cell_type": "code",
      "source": [
        "df.isna().sum()"
      ],
      "metadata": {
        "id": "ab24flex6fHA",
        "colab": {
          "base_uri": "https://localhost:8080/"
        },
        "outputId": "e47dc671-4173-4a75-ba39-7aaf85ed8a91"
      },
      "execution_count": null,
      "outputs": [
        {
          "output_type": "execute_result",
          "data": {
            "text/plain": [
              "survived         0\n",
              "pclass           0\n",
              "sex              0\n",
              "age            177\n",
              "sibsp            0\n",
              "parch            0\n",
              "fare             0\n",
              "embarked         2\n",
              "class            0\n",
              "who              0\n",
              "adult_male       0\n",
              "deck           688\n",
              "embark_town      2\n",
              "alive            0\n",
              "alone            0\n",
              "dtype: int64"
            ]
          },
          "metadata": {},
          "execution_count": 8
        }
      ]
    },
    {
      "cell_type": "markdown",
      "source": [
        "\n",
        "Признаки age, embarked, embark_town нужно преобразовать, признак deck удалить, так как слишком много пропущенных значений"
      ],
      "metadata": {
        "id": "ntxnA1ss68cp"
      }
    },
    {
      "cell_type": "markdown",
      "source": [
        "<font color='1A9BFF'>**анализ категориальных переменных**</font>\n",
        "\n"
      ],
      "metadata": {
        "id": "zQaRzShb6vrL"
      }
    },
    {
      "cell_type": "markdown",
      "source": [
        "сколько категориальных признаков"
      ],
      "metadata": {
        "id": "fRX5j_Mi7EEy"
      }
    },
    {
      "cell_type": "code",
      "source": [
        "category_cols = [col for col, dtype in df.dtypes.items() if dtype.name == 'category' or dtype.name == 'object']\n",
        "category_cols"
      ],
      "metadata": {
        "id": "G7v19EeB7H2m",
        "colab": {
          "base_uri": "https://localhost:8080/"
        },
        "outputId": "78c928e4-8c18-4a26-a8d6-f779e0125d6c"
      },
      "execution_count": null,
      "outputs": [
        {
          "output_type": "execute_result",
          "data": {
            "text/plain": [
              "['sex', 'embarked', 'class', 'who', 'deck', 'embark_town', 'alive']"
            ]
          },
          "metadata": {},
          "execution_count": 9
        }
      ]
    },
    {
      "cell_type": "markdown",
      "source": [
        "Значения категориальных признаков"
      ],
      "metadata": {
        "id": "i1JiZEIN7Isd"
      }
    },
    {
      "cell_type": "code",
      "source": [
        "df.sex.value_counts()"
      ],
      "metadata": {
        "id": "yHPZnbSv7NiK",
        "colab": {
          "base_uri": "https://localhost:8080/"
        },
        "outputId": "df0d7851-0ca7-4ca5-b980-92c345f4efa9"
      },
      "execution_count": null,
      "outputs": [
        {
          "output_type": "execute_result",
          "data": {
            "text/plain": [
              "sex\n",
              "male      577\n",
              "female    314\n",
              "Name: count, dtype: int64"
            ]
          },
          "metadata": {},
          "execution_count": 10
        }
      ]
    },
    {
      "cell_type": "code",
      "source": [
        "df.embarked.value_counts()"
      ],
      "metadata": {
        "colab": {
          "base_uri": "https://localhost:8080/"
        },
        "id": "ehj3pM_fUqO_",
        "outputId": "91c0b8b4-908c-4688-c339-725376e1de87"
      },
      "execution_count": null,
      "outputs": [
        {
          "output_type": "execute_result",
          "data": {
            "text/plain": [
              "embarked\n",
              "S    644\n",
              "C    168\n",
              "Q     77\n",
              "Name: count, dtype: int64"
            ]
          },
          "metadata": {},
          "execution_count": 11
        }
      ]
    },
    {
      "cell_type": "code",
      "source": [
        "df['class'].value_counts()"
      ],
      "metadata": {
        "colab": {
          "base_uri": "https://localhost:8080/"
        },
        "id": "kMYwG-TNUpzA",
        "outputId": "a6032b18-a1ba-45bd-fefd-bf884a468577"
      },
      "execution_count": null,
      "outputs": [
        {
          "output_type": "execute_result",
          "data": {
            "text/plain": [
              "class\n",
              "Third     491\n",
              "First     216\n",
              "Second    184\n",
              "Name: count, dtype: int64"
            ]
          },
          "metadata": {},
          "execution_count": 12
        }
      ]
    },
    {
      "cell_type": "code",
      "source": [
        "df.who.value_counts()"
      ],
      "metadata": {
        "colab": {
          "base_uri": "https://localhost:8080/"
        },
        "id": "PfhUEVZCUpkI",
        "outputId": "fb77a8c2-a2db-408e-e867-cf4adfa50e39"
      },
      "execution_count": null,
      "outputs": [
        {
          "output_type": "execute_result",
          "data": {
            "text/plain": [
              "who\n",
              "man      537\n",
              "woman    271\n",
              "child     83\n",
              "Name: count, dtype: int64"
            ]
          },
          "metadata": {},
          "execution_count": 12
        }
      ]
    },
    {
      "cell_type": "code",
      "source": [
        "df.deck.value_counts()"
      ],
      "metadata": {
        "colab": {
          "base_uri": "https://localhost:8080/"
        },
        "id": "1-ASgcRkUpRA",
        "outputId": "1aab1541-66ed-4699-8fa0-3b6aca0edfed"
      },
      "execution_count": null,
      "outputs": [
        {
          "output_type": "execute_result",
          "data": {
            "text/plain": [
              "deck\n",
              "C    59\n",
              "B    47\n",
              "D    33\n",
              "E    32\n",
              "A    15\n",
              "F    13\n",
              "G     4\n",
              "Name: count, dtype: int64"
            ]
          },
          "metadata": {},
          "execution_count": 13
        }
      ]
    },
    {
      "cell_type": "code",
      "source": [
        "df.embark_town.value_counts()"
      ],
      "metadata": {
        "colab": {
          "base_uri": "https://localhost:8080/"
        },
        "id": "qsKLhoDpUowR",
        "outputId": "c48b3b6e-e590-4d45-c501-263e56d1dc92"
      },
      "execution_count": null,
      "outputs": [
        {
          "output_type": "execute_result",
          "data": {
            "text/plain": [
              "embark_town\n",
              "Southampton    644\n",
              "Cherbourg      168\n",
              "Queenstown      77\n",
              "Name: count, dtype: int64"
            ]
          },
          "metadata": {},
          "execution_count": 14
        }
      ]
    },
    {
      "cell_type": "code",
      "source": [
        "df.alive.value_counts()"
      ],
      "metadata": {
        "colab": {
          "base_uri": "https://localhost:8080/"
        },
        "id": "6usHT7oPU7Va",
        "outputId": "faf78dca-de59-4d2c-b171-eb63d3195dac"
      },
      "execution_count": null,
      "outputs": [
        {
          "output_type": "execute_result",
          "data": {
            "text/plain": [
              "alive\n",
              "no     549\n",
              "yes    342\n",
              "Name: count, dtype: int64"
            ]
          },
          "metadata": {},
          "execution_count": 15
        }
      ]
    },
    {
      "cell_type": "markdown",
      "source": [
        "\n",
        "В модели буду использовать все категориальные признаки, кроме deck - очень много пропущенных значений\n"
      ],
      "metadata": {
        "id": "Gmh3Izbm7U2Q"
      }
    },
    {
      "cell_type": "code",
      "source": [
        "df.drop(columns=['deck'], inplace=True)"
      ],
      "metadata": {
        "id": "UaaxADxZKfD6"
      },
      "execution_count": null,
      "outputs": []
    },
    {
      "cell_type": "code",
      "source": [
        "df.shape"
      ],
      "metadata": {
        "colab": {
          "base_uri": "https://localhost:8080/"
        },
        "id": "uAJSU8FTLLv0",
        "outputId": "ba862967-c044-4ec2-b154-b678e9ca536e"
      },
      "execution_count": null,
      "outputs": [
        {
          "output_type": "execute_result",
          "data": {
            "text/plain": [
              "(891, 14)"
            ]
          },
          "metadata": {},
          "execution_count": 14
        }
      ]
    },
    {
      "cell_type": "markdown",
      "source": [
        "## Разделим выборку на тренировочную и тестовую"
      ],
      "metadata": {
        "id": "EDfImQUJ7lQx"
      }
    },
    {
      "cell_type": "code",
      "source": [
        "x = df.drop(columns=['survived'])\n",
        "y = df['survived']\n",
        "\n",
        "x_train, x_test, y_train, y_test = train_test_split(x, y, test_size=0.2, random_state=42)"
      ],
      "metadata": {
        "id": "j4fDWYHM7sKr"
      },
      "execution_count": null,
      "outputs": []
    },
    {
      "cell_type": "code",
      "source": [
        "x_train.shape, x_test.shape"
      ],
      "metadata": {
        "colab": {
          "base_uri": "https://localhost:8080/"
        },
        "id": "AOiYTbJ9BiW_",
        "outputId": "6f81fdd2-e751-4fe3-b9bc-6c0f91611bac"
      },
      "execution_count": null,
      "outputs": [
        {
          "output_type": "execute_result",
          "data": {
            "text/plain": [
              "((712, 13), (179, 13))"
            ]
          },
          "metadata": {},
          "execution_count": 16
        }
      ]
    },
    {
      "cell_type": "markdown",
      "source": [
        "## Подготовка датасета к построению моделей"
      ],
      "metadata": {
        "id": "7m0uQUes7ta9"
      }
    },
    {
      "cell_type": "markdown",
      "source": [
        "<font color='1A9BFF'>**Обработка пропусков**</font>\n",
        "\n"
      ],
      "metadata": {
        "id": "Pbld6mUe71dF"
      }
    },
    {
      "cell_type": "code",
      "source": [
        "# для признака 'age'\n",
        "x_train.age.fillna(x_train.age.median(numeric_only=True), inplace=True)\n",
        "x_test.age.fillna(x_test.age.median(numeric_only=True), inplace=True)\n",
        "\n",
        "# для признака 'embarked'\n",
        "x_train.embarked.fillna(x_train.embarked.mode()[0], inplace=True)\n",
        "x_test.embarked.fillna(x_test.embarked.mode()[0], inplace=True)\n",
        "\n",
        "# для признака 'embark_town'\n",
        "x_train.embark_town.fillna(x_train.embark_town.mode()[0], inplace=True)\n",
        "x_test.embark_town.fillna(x_test.embark_town.mode()[0], inplace=True)"
      ],
      "metadata": {
        "id": "ml6ubcd18KdQ"
      },
      "execution_count": null,
      "outputs": []
    },
    {
      "cell_type": "code",
      "source": [
        "x_train.isna().sum(), x_test.isna().sum()"
      ],
      "metadata": {
        "colab": {
          "base_uri": "https://localhost:8080/"
        },
        "id": "woZx2S1k_4ou",
        "outputId": "6eac9c0d-27aa-4d6b-bc9f-991bc61647c8"
      },
      "execution_count": null,
      "outputs": [
        {
          "output_type": "execute_result",
          "data": {
            "text/plain": [
              "(pclass         0\n",
              " sex            0\n",
              " age            0\n",
              " sibsp          0\n",
              " parch          0\n",
              " fare           0\n",
              " embarked       0\n",
              " class          0\n",
              " who            0\n",
              " adult_male     0\n",
              " embark_town    0\n",
              " alive          0\n",
              " alone          0\n",
              " dtype: int64,\n",
              " pclass         0\n",
              " sex            0\n",
              " age            0\n",
              " sibsp          0\n",
              " parch          0\n",
              " fare           0\n",
              " embarked       0\n",
              " class          0\n",
              " who            0\n",
              " adult_male     0\n",
              " embark_town    0\n",
              " alive          0\n",
              " alone          0\n",
              " dtype: int64)"
            ]
          },
          "metadata": {},
          "execution_count": 18
        }
      ]
    },
    {
      "cell_type": "markdown",
      "source": [
        "<font color='1A9BFF'>**Обработка категориальных признаков**</font>\n",
        "\n"
      ],
      "metadata": {
        "id": "DuBHrTjJ8NLP"
      }
    },
    {
      "cell_type": "code",
      "source": [
        "# Сброс индексов\n",
        "x_train = x_train.reset_index(drop=True)\n",
        "x_test = x_test.reset_index(drop=True)\n",
        "y_train = y_train.reset_index(drop=True)\n",
        "y_test = y_test.reset_index(drop=True)"
      ],
      "metadata": {
        "id": "qC_V3oib8LaS"
      },
      "execution_count": null,
      "outputs": []
    },
    {
      "cell_type": "code",
      "source": [
        "# Разделение на числовые и категориальные признаки\n",
        "feat_number = x_train.select_dtypes(include='number').columns\n",
        "feat_cat = x_train.select_dtypes(exclude='number').columns"
      ],
      "metadata": {
        "id": "CU6cpMU9AczK"
      },
      "execution_count": null,
      "outputs": []
    },
    {
      "cell_type": "code",
      "source": [
        "# Mean target encoding для категориальных признаков\n",
        "target_enc = ce.TargetEncoder(cols=feat_cat)\n",
        "x_train[feat_cat] = target_enc.fit_transform(x_train[feat_cat], y_train)\n",
        "x_test[feat_cat] = target_enc.transform(x_test[feat_cat])"
      ],
      "metadata": {
        "id": "BLF8twfPSmYT"
      },
      "execution_count": null,
      "outputs": []
    },
    {
      "cell_type": "code",
      "source": [
        "# Стандартизация признаков\n",
        "scaler = StandardScaler()\n",
        "x_train_scaled = scaler.fit_transform(x_train)\n",
        "x_test_scaled = scaler.transform(x_test)"
      ],
      "metadata": {
        "id": "FP2-s0PzknDt"
      },
      "execution_count": null,
      "outputs": []
    },
    {
      "cell_type": "code",
      "source": [
        "x_train_scaled_df = pd.DataFrame(x_train_scaled)\n",
        "x_train_scaled_df.head(3)"
      ],
      "metadata": {
        "colab": {
          "base_uri": "https://localhost:8080/",
          "height": 143
        },
        "id": "vtf2tz9V25vH",
        "outputId": "ddc4982e-7cce-4619-ff05-5db92861e18a"
      },
      "execution_count": null,
      "outputs": [
        {
          "output_type": "execute_result",
          "data": {
            "text/plain": [
              "         0        1         2         3         4         5         6   \\\n",
              "0 -1.614136 -0.72431  1.253641 -0.470722 -0.479342 -0.078684 -0.497248   \n",
              "1 -0.400551 -0.72431 -0.477284 -0.470722 -0.479342 -0.377145 -0.497248   \n",
              "2  0.813034 -0.72431  0.215086 -0.470722 -0.479342 -0.474867 -0.497248   \n",
              "\n",
              "         7         8         9         10        11        12  \n",
              "0  1.464841 -0.790136 -0.805076 -0.497248 -0.776919 -0.812203  \n",
              "1  0.678892 -0.790136 -0.805076 -0.497248 -0.776919 -0.812203  \n",
              "2 -0.857492 -0.790136 -0.805076 -0.497248 -0.776919 -0.812203  "
            ],
            "text/html": [
              "\n",
              "  <div id=\"df-9826d92e-bfb7-4cc8-bd7e-60384caf3145\" class=\"colab-df-container\">\n",
              "    <div>\n",
              "<style scoped>\n",
              "    .dataframe tbody tr th:only-of-type {\n",
              "        vertical-align: middle;\n",
              "    }\n",
              "\n",
              "    .dataframe tbody tr th {\n",
              "        vertical-align: top;\n",
              "    }\n",
              "\n",
              "    .dataframe thead th {\n",
              "        text-align: right;\n",
              "    }\n",
              "</style>\n",
              "<table border=\"1\" class=\"dataframe\">\n",
              "  <thead>\n",
              "    <tr style=\"text-align: right;\">\n",
              "      <th></th>\n",
              "      <th>0</th>\n",
              "      <th>1</th>\n",
              "      <th>2</th>\n",
              "      <th>3</th>\n",
              "      <th>4</th>\n",
              "      <th>5</th>\n",
              "      <th>6</th>\n",
              "      <th>7</th>\n",
              "      <th>8</th>\n",
              "      <th>9</th>\n",
              "      <th>10</th>\n",
              "      <th>11</th>\n",
              "      <th>12</th>\n",
              "    </tr>\n",
              "  </thead>\n",
              "  <tbody>\n",
              "    <tr>\n",
              "      <th>0</th>\n",
              "      <td>-1.614136</td>\n",
              "      <td>-0.72431</td>\n",
              "      <td>1.253641</td>\n",
              "      <td>-0.470722</td>\n",
              "      <td>-0.479342</td>\n",
              "      <td>-0.078684</td>\n",
              "      <td>-0.497248</td>\n",
              "      <td>1.464841</td>\n",
              "      <td>-0.790136</td>\n",
              "      <td>-0.805076</td>\n",
              "      <td>-0.497248</td>\n",
              "      <td>-0.776919</td>\n",
              "      <td>-0.812203</td>\n",
              "    </tr>\n",
              "    <tr>\n",
              "      <th>1</th>\n",
              "      <td>-0.400551</td>\n",
              "      <td>-0.72431</td>\n",
              "      <td>-0.477284</td>\n",
              "      <td>-0.470722</td>\n",
              "      <td>-0.479342</td>\n",
              "      <td>-0.377145</td>\n",
              "      <td>-0.497248</td>\n",
              "      <td>0.678892</td>\n",
              "      <td>-0.790136</td>\n",
              "      <td>-0.805076</td>\n",
              "      <td>-0.497248</td>\n",
              "      <td>-0.776919</td>\n",
              "      <td>-0.812203</td>\n",
              "    </tr>\n",
              "    <tr>\n",
              "      <th>2</th>\n",
              "      <td>0.813034</td>\n",
              "      <td>-0.72431</td>\n",
              "      <td>0.215086</td>\n",
              "      <td>-0.470722</td>\n",
              "      <td>-0.479342</td>\n",
              "      <td>-0.474867</td>\n",
              "      <td>-0.497248</td>\n",
              "      <td>-0.857492</td>\n",
              "      <td>-0.790136</td>\n",
              "      <td>-0.805076</td>\n",
              "      <td>-0.497248</td>\n",
              "      <td>-0.776919</td>\n",
              "      <td>-0.812203</td>\n",
              "    </tr>\n",
              "  </tbody>\n",
              "</table>\n",
              "</div>\n",
              "    <div class=\"colab-df-buttons\">\n",
              "\n",
              "  <div class=\"colab-df-container\">\n",
              "    <button class=\"colab-df-convert\" onclick=\"convertToInteractive('df-9826d92e-bfb7-4cc8-bd7e-60384caf3145')\"\n",
              "            title=\"Convert this dataframe to an interactive table.\"\n",
              "            style=\"display:none;\">\n",
              "\n",
              "  <svg xmlns=\"http://www.w3.org/2000/svg\" height=\"24px\" viewBox=\"0 -960 960 960\">\n",
              "    <path d=\"M120-120v-720h720v720H120Zm60-500h600v-160H180v160Zm220 220h160v-160H400v160Zm0 220h160v-160H400v160ZM180-400h160v-160H180v160Zm440 0h160v-160H620v160ZM180-180h160v-160H180v160Zm440 0h160v-160H620v160Z\"/>\n",
              "  </svg>\n",
              "    </button>\n",
              "\n",
              "  <style>\n",
              "    .colab-df-container {\n",
              "      display:flex;\n",
              "      gap: 12px;\n",
              "    }\n",
              "\n",
              "    .colab-df-convert {\n",
              "      background-color: #E8F0FE;\n",
              "      border: none;\n",
              "      border-radius: 50%;\n",
              "      cursor: pointer;\n",
              "      display: none;\n",
              "      fill: #1967D2;\n",
              "      height: 32px;\n",
              "      padding: 0 0 0 0;\n",
              "      width: 32px;\n",
              "    }\n",
              "\n",
              "    .colab-df-convert:hover {\n",
              "      background-color: #E2EBFA;\n",
              "      box-shadow: 0px 1px 2px rgba(60, 64, 67, 0.3), 0px 1px 3px 1px rgba(60, 64, 67, 0.15);\n",
              "      fill: #174EA6;\n",
              "    }\n",
              "\n",
              "    .colab-df-buttons div {\n",
              "      margin-bottom: 4px;\n",
              "    }\n",
              "\n",
              "    [theme=dark] .colab-df-convert {\n",
              "      background-color: #3B4455;\n",
              "      fill: #D2E3FC;\n",
              "    }\n",
              "\n",
              "    [theme=dark] .colab-df-convert:hover {\n",
              "      background-color: #434B5C;\n",
              "      box-shadow: 0px 1px 3px 1px rgba(0, 0, 0, 0.15);\n",
              "      filter: drop-shadow(0px 1px 2px rgba(0, 0, 0, 0.3));\n",
              "      fill: #FFFFFF;\n",
              "    }\n",
              "  </style>\n",
              "\n",
              "    <script>\n",
              "      const buttonEl =\n",
              "        document.querySelector('#df-9826d92e-bfb7-4cc8-bd7e-60384caf3145 button.colab-df-convert');\n",
              "      buttonEl.style.display =\n",
              "        google.colab.kernel.accessAllowed ? 'block' : 'none';\n",
              "\n",
              "      async function convertToInteractive(key) {\n",
              "        const element = document.querySelector('#df-9826d92e-bfb7-4cc8-bd7e-60384caf3145');\n",
              "        const dataTable =\n",
              "          await google.colab.kernel.invokeFunction('convertToInteractive',\n",
              "                                                    [key], {});\n",
              "        if (!dataTable) return;\n",
              "\n",
              "        const docLinkHtml = 'Like what you see? Visit the ' +\n",
              "          '<a target=\"_blank\" href=https://colab.research.google.com/notebooks/data_table.ipynb>data table notebook</a>'\n",
              "          + ' to learn more about interactive tables.';\n",
              "        element.innerHTML = '';\n",
              "        dataTable['output_type'] = 'display_data';\n",
              "        await google.colab.output.renderOutput(dataTable, element);\n",
              "        const docLink = document.createElement('div');\n",
              "        docLink.innerHTML = docLinkHtml;\n",
              "        element.appendChild(docLink);\n",
              "      }\n",
              "    </script>\n",
              "  </div>\n",
              "\n",
              "\n",
              "<div id=\"df-90df23c3-302e-4c87-964f-2aef45ec7cea\">\n",
              "  <button class=\"colab-df-quickchart\" onclick=\"quickchart('df-90df23c3-302e-4c87-964f-2aef45ec7cea')\"\n",
              "            title=\"Suggest charts\"\n",
              "            style=\"display:none;\">\n",
              "\n",
              "<svg xmlns=\"http://www.w3.org/2000/svg\" height=\"24px\"viewBox=\"0 0 24 24\"\n",
              "     width=\"24px\">\n",
              "    <g>\n",
              "        <path d=\"M19 3H5c-1.1 0-2 .9-2 2v14c0 1.1.9 2 2 2h14c1.1 0 2-.9 2-2V5c0-1.1-.9-2-2-2zM9 17H7v-7h2v7zm4 0h-2V7h2v10zm4 0h-2v-4h2v4z\"/>\n",
              "    </g>\n",
              "</svg>\n",
              "  </button>\n",
              "\n",
              "<style>\n",
              "  .colab-df-quickchart {\n",
              "      --bg-color: #E8F0FE;\n",
              "      --fill-color: #1967D2;\n",
              "      --hover-bg-color: #E2EBFA;\n",
              "      --hover-fill-color: #174EA6;\n",
              "      --disabled-fill-color: #AAA;\n",
              "      --disabled-bg-color: #DDD;\n",
              "  }\n",
              "\n",
              "  [theme=dark] .colab-df-quickchart {\n",
              "      --bg-color: #3B4455;\n",
              "      --fill-color: #D2E3FC;\n",
              "      --hover-bg-color: #434B5C;\n",
              "      --hover-fill-color: #FFFFFF;\n",
              "      --disabled-bg-color: #3B4455;\n",
              "      --disabled-fill-color: #666;\n",
              "  }\n",
              "\n",
              "  .colab-df-quickchart {\n",
              "    background-color: var(--bg-color);\n",
              "    border: none;\n",
              "    border-radius: 50%;\n",
              "    cursor: pointer;\n",
              "    display: none;\n",
              "    fill: var(--fill-color);\n",
              "    height: 32px;\n",
              "    padding: 0;\n",
              "    width: 32px;\n",
              "  }\n",
              "\n",
              "  .colab-df-quickchart:hover {\n",
              "    background-color: var(--hover-bg-color);\n",
              "    box-shadow: 0 1px 2px rgba(60, 64, 67, 0.3), 0 1px 3px 1px rgba(60, 64, 67, 0.15);\n",
              "    fill: var(--button-hover-fill-color);\n",
              "  }\n",
              "\n",
              "  .colab-df-quickchart-complete:disabled,\n",
              "  .colab-df-quickchart-complete:disabled:hover {\n",
              "    background-color: var(--disabled-bg-color);\n",
              "    fill: var(--disabled-fill-color);\n",
              "    box-shadow: none;\n",
              "  }\n",
              "\n",
              "  .colab-df-spinner {\n",
              "    border: 2px solid var(--fill-color);\n",
              "    border-color: transparent;\n",
              "    border-bottom-color: var(--fill-color);\n",
              "    animation:\n",
              "      spin 1s steps(1) infinite;\n",
              "  }\n",
              "\n",
              "  @keyframes spin {\n",
              "    0% {\n",
              "      border-color: transparent;\n",
              "      border-bottom-color: var(--fill-color);\n",
              "      border-left-color: var(--fill-color);\n",
              "    }\n",
              "    20% {\n",
              "      border-color: transparent;\n",
              "      border-left-color: var(--fill-color);\n",
              "      border-top-color: var(--fill-color);\n",
              "    }\n",
              "    30% {\n",
              "      border-color: transparent;\n",
              "      border-left-color: var(--fill-color);\n",
              "      border-top-color: var(--fill-color);\n",
              "      border-right-color: var(--fill-color);\n",
              "    }\n",
              "    40% {\n",
              "      border-color: transparent;\n",
              "      border-right-color: var(--fill-color);\n",
              "      border-top-color: var(--fill-color);\n",
              "    }\n",
              "    60% {\n",
              "      border-color: transparent;\n",
              "      border-right-color: var(--fill-color);\n",
              "    }\n",
              "    80% {\n",
              "      border-color: transparent;\n",
              "      border-right-color: var(--fill-color);\n",
              "      border-bottom-color: var(--fill-color);\n",
              "    }\n",
              "    90% {\n",
              "      border-color: transparent;\n",
              "      border-bottom-color: var(--fill-color);\n",
              "    }\n",
              "  }\n",
              "</style>\n",
              "\n",
              "  <script>\n",
              "    async function quickchart(key) {\n",
              "      const quickchartButtonEl =\n",
              "        document.querySelector('#' + key + ' button');\n",
              "      quickchartButtonEl.disabled = true;  // To prevent multiple clicks.\n",
              "      quickchartButtonEl.classList.add('colab-df-spinner');\n",
              "      try {\n",
              "        const charts = await google.colab.kernel.invokeFunction(\n",
              "            'suggestCharts', [key], {});\n",
              "      } catch (error) {\n",
              "        console.error('Error during call to suggestCharts:', error);\n",
              "      }\n",
              "      quickchartButtonEl.classList.remove('colab-df-spinner');\n",
              "      quickchartButtonEl.classList.add('colab-df-quickchart-complete');\n",
              "    }\n",
              "    (() => {\n",
              "      let quickchartButtonEl =\n",
              "        document.querySelector('#df-90df23c3-302e-4c87-964f-2aef45ec7cea button');\n",
              "      quickchartButtonEl.style.display =\n",
              "        google.colab.kernel.accessAllowed ? 'block' : 'none';\n",
              "    })();\n",
              "  </script>\n",
              "</div>\n",
              "    </div>\n",
              "  </div>\n"
            ],
            "application/vnd.google.colaboratory.intrinsic+json": {
              "type": "dataframe",
              "variable_name": "x_train_scaled_df",
              "summary": "{\n  \"name\": \"x_train_scaled_df\",\n  \"rows\": 712,\n  \"fields\": [\n    {\n      \"column\": 0,\n      \"properties\": {\n        \"dtype\": \"number\",\n        \"std\": 1.0007029877845377,\n        \"min\": -1.6141360232496715,\n        \"max\": 0.8130336674657798,\n        \"num_unique_values\": 3,\n        \"samples\": [\n          -1.6141360232496715,\n          -0.40055117789194583,\n          0.8130336674657798\n        ],\n        \"semantic_type\": \"\",\n        \"description\": \"\"\n      }\n    },\n    {\n      \"column\": 1,\n      \"properties\": {\n        \"dtype\": \"number\",\n        \"std\": 1.0007029877845375,\n        \"min\": -0.7243102012714946,\n        \"max\": 1.3806239346685223,\n        \"num_unique_values\": 2,\n        \"samples\": [\n          1.3806239346685223,\n          -0.7243102012714946\n        ],\n        \"semantic_type\": \"\",\n        \"description\": \"\"\n      }\n    },\n    {\n      \"column\": 2,\n      \"properties\": {\n        \"dtype\": \"number\",\n        \"std\": 1.0007029877845375,\n        \"min\": -2.2143625673279588,\n        \"max\": 3.907725469485535,\n        \"num_unique_values\": 83,\n        \"samples\": [\n          -0.6311435198584728,\n          1.253641060462344\n        ],\n        \"semantic_type\": \"\",\n        \"description\": \"\"\n      }\n    },\n    {\n      \"column\": 3,\n      \"properties\": {\n        \"dtype\": \"number\",\n        \"std\": 1.0007029877845373,\n        \"min\": -0.47072241016576966,\n        \"max\": 6.33444217943886,\n        \"num_unique_values\": 7,\n        \"samples\": [\n          -0.47072241016576966,\n          0.3799231635348091\n        ],\n        \"semantic_type\": \"\",\n        \"description\": \"\"\n      }\n    },\n    {\n      \"column\": 4,\n      \"properties\": {\n        \"dtype\": \"number\",\n        \"std\": 1.0007029877845373,\n        \"min\": -0.47934163551176356,\n        \"max\": 7.104908241918808,\n        \"num_unique_values\": 7,\n        \"samples\": [\n          -0.47934163551176356,\n          2.048741656965093\n        ],\n        \"semantic_type\": \"\",\n        \"description\": \"\"\n      }\n    },\n    {\n      \"column\": 5,\n      \"properties\": {\n        \"dtype\": \"number\",\n        \"std\": 1.0007029877845375,\n        \"min\": -0.6274673695134984,\n        \"max\": 9.2377241678583,\n        \"num_unique_values\": 220,\n        \"samples\": [\n          -0.23128398609239975,\n          1.4694643658234467\n        ],\n        \"semantic_type\": \"\",\n        \"description\": \"\"\n      }\n    },\n    {\n      \"column\": 6,\n      \"properties\": {\n        \"dtype\": \"number\",\n        \"std\": 1.0007029877845375,\n        \"min\": -0.497247853225336,\n        \"max\": 2.1555248892418306,\n        \"num_unique_values\": 3,\n        \"samples\": [\n          -0.497247853225336,\n          2.1555248892418306\n        ],\n        \"semantic_type\": \"\",\n        \"description\": \"\"\n      }\n    },\n    {\n      \"column\": 7,\n      \"properties\": {\n        \"dtype\": \"number\",\n        \"std\": 1.0007029877845375,\n        \"min\": -0.8574918482256045,\n        \"max\": 1.4648406650196677,\n        \"num_unique_values\": 3,\n        \"samples\": [\n          1.4648406650196677,\n          0.6788922330833409\n        ],\n        \"semantic_type\": \"\",\n        \"description\": \"\"\n      }\n    },\n    {\n      \"column\": 8,\n      \"properties\": {\n        \"dtype\": \"number\",\n        \"std\": 1.0007029877845375,\n        \"min\": -0.7901360582774161,\n        \"max\": 1.3939300708600737,\n        \"num_unique_values\": 3,\n        \"samples\": [\n          -0.7901360582774161,\n          0.6843410467299729\n        ],\n        \"semantic_type\": \"\",\n        \"description\": \"\"\n      }\n    },\n    {\n      \"column\": 9,\n      \"properties\": {\n        \"dtype\": \"number\",\n        \"std\": 1.0007029877845375,\n        \"min\": -0.8050764858994135,\n        \"max\": 1.2421180068162374,\n        \"num_unique_values\": 2,\n        \"samples\": [\n          1.2421180068162374,\n          -0.8050764858994135\n        ],\n        \"semantic_type\": \"\",\n        \"description\": \"\"\n      }\n    },\n    {\n      \"column\": 10,\n      \"properties\": {\n        \"dtype\": \"number\",\n        \"std\": 1.0007029877845375,\n        \"min\": -0.497247853225336,\n        \"max\": 2.1555248892418306,\n        \"num_unique_values\": 3,\n        \"samples\": [\n          -0.497247853225336,\n          2.1555248892418306\n        ],\n        \"semantic_type\": \"\",\n        \"description\": \"\"\n      }\n    },\n    {\n      \"column\": 11,\n      \"properties\": {\n        \"dtype\": \"number\",\n        \"std\": 1.0007029877845375,\n        \"min\": -0.7769193031477617,\n        \"max\": 1.287134964916441,\n        \"num_unique_values\": 2,\n        \"samples\": [\n          1.287134964916441,\n          -0.7769193031477617\n        ],\n        \"semantic_type\": \"\",\n        \"description\": \"\"\n      }\n    },\n    {\n      \"column\": 12,\n      \"properties\": {\n        \"dtype\": \"number\",\n        \"std\": 1.0007029877845375,\n        \"min\": -0.8122029670431291,\n        \"max\": 1.2312193387332202,\n        \"num_unique_values\": 2,\n        \"samples\": [\n          1.2312193387332202,\n          -0.8122029670431291\n        ],\n        \"semantic_type\": \"\",\n        \"description\": \"\"\n      }\n    }\n  ]\n}"
            }
          },
          "metadata": {},
          "execution_count": 23
        }
      ]
    },
    {
      "cell_type": "markdown",
      "source": [
        "## Построение модели knn"
      ],
      "metadata": {
        "id": "u24QZEWd8UJI"
      }
    },
    {
      "cell_type": "markdown",
      "source": [
        "<font color='1A9BFF'>**1. Задаю сетку параметров для параметров: n_neighbors, p**</font>   \n",
        "<font color='1A9BFF'>**2. С помощью gridsearch выбираю наилучшие параметры n_neighbors, p**</font>   \n",
        "<font color='1A9BFF'>**3. С помощью кросс-валидации хочу убедиться, что модель с минимальным переобучением**</font>\n",
        "\n"
      ],
      "metadata": {
        "id": "AKepqZcz8aNS"
      }
    },
    {
      "cell_type": "code",
      "source": [
        "param_grid = {'n_neighbors': range(1, 21, 5), 'p':[1, 2]}\n",
        "knn = KNeighborsClassifier()\n",
        "grid_search = GridSearchCV(knn, param_grid, cv=5, scoring='accuracy')\n",
        "grid_search.fit(x_train_scaled, y_train)"
      ],
      "metadata": {
        "id": "W9u40QbC8XVO",
        "colab": {
          "base_uri": "https://localhost:8080/",
          "height": 117
        },
        "outputId": "a1318d5f-b64f-4f82-fdce-7bf48792a5b9"
      },
      "execution_count": null,
      "outputs": [
        {
          "output_type": "execute_result",
          "data": {
            "text/plain": [
              "GridSearchCV(cv=5, estimator=KNeighborsClassifier(),\n",
              "             param_grid={'n_neighbors': range(1, 21, 5), 'p': [1, 2]},\n",
              "             scoring='accuracy')"
            ],
            "text/html": [
              "<style>#sk-container-id-1 {color: black;background-color: white;}#sk-container-id-1 pre{padding: 0;}#sk-container-id-1 div.sk-toggleable {background-color: white;}#sk-container-id-1 label.sk-toggleable__label {cursor: pointer;display: block;width: 100%;margin-bottom: 0;padding: 0.3em;box-sizing: border-box;text-align: center;}#sk-container-id-1 label.sk-toggleable__label-arrow:before {content: \"▸\";float: left;margin-right: 0.25em;color: #696969;}#sk-container-id-1 label.sk-toggleable__label-arrow:hover:before {color: black;}#sk-container-id-1 div.sk-estimator:hover label.sk-toggleable__label-arrow:before {color: black;}#sk-container-id-1 div.sk-toggleable__content {max-height: 0;max-width: 0;overflow: hidden;text-align: left;background-color: #f0f8ff;}#sk-container-id-1 div.sk-toggleable__content pre {margin: 0.2em;color: black;border-radius: 0.25em;background-color: #f0f8ff;}#sk-container-id-1 input.sk-toggleable__control:checked~div.sk-toggleable__content {max-height: 200px;max-width: 100%;overflow: auto;}#sk-container-id-1 input.sk-toggleable__control:checked~label.sk-toggleable__label-arrow:before {content: \"▾\";}#sk-container-id-1 div.sk-estimator input.sk-toggleable__control:checked~label.sk-toggleable__label {background-color: #d4ebff;}#sk-container-id-1 div.sk-label input.sk-toggleable__control:checked~label.sk-toggleable__label {background-color: #d4ebff;}#sk-container-id-1 input.sk-hidden--visually {border: 0;clip: rect(1px 1px 1px 1px);clip: rect(1px, 1px, 1px, 1px);height: 1px;margin: -1px;overflow: hidden;padding: 0;position: absolute;width: 1px;}#sk-container-id-1 div.sk-estimator {font-family: monospace;background-color: #f0f8ff;border: 1px dotted black;border-radius: 0.25em;box-sizing: border-box;margin-bottom: 0.5em;}#sk-container-id-1 div.sk-estimator:hover {background-color: #d4ebff;}#sk-container-id-1 div.sk-parallel-item::after {content: \"\";width: 100%;border-bottom: 1px solid gray;flex-grow: 1;}#sk-container-id-1 div.sk-label:hover label.sk-toggleable__label {background-color: #d4ebff;}#sk-container-id-1 div.sk-serial::before {content: \"\";position: absolute;border-left: 1px solid gray;box-sizing: border-box;top: 0;bottom: 0;left: 50%;z-index: 0;}#sk-container-id-1 div.sk-serial {display: flex;flex-direction: column;align-items: center;background-color: white;padding-right: 0.2em;padding-left: 0.2em;position: relative;}#sk-container-id-1 div.sk-item {position: relative;z-index: 1;}#sk-container-id-1 div.sk-parallel {display: flex;align-items: stretch;justify-content: center;background-color: white;position: relative;}#sk-container-id-1 div.sk-item::before, #sk-container-id-1 div.sk-parallel-item::before {content: \"\";position: absolute;border-left: 1px solid gray;box-sizing: border-box;top: 0;bottom: 0;left: 50%;z-index: -1;}#sk-container-id-1 div.sk-parallel-item {display: flex;flex-direction: column;z-index: 1;position: relative;background-color: white;}#sk-container-id-1 div.sk-parallel-item:first-child::after {align-self: flex-end;width: 50%;}#sk-container-id-1 div.sk-parallel-item:last-child::after {align-self: flex-start;width: 50%;}#sk-container-id-1 div.sk-parallel-item:only-child::after {width: 0;}#sk-container-id-1 div.sk-dashed-wrapped {border: 1px dashed gray;margin: 0 0.4em 0.5em 0.4em;box-sizing: border-box;padding-bottom: 0.4em;background-color: white;}#sk-container-id-1 div.sk-label label {font-family: monospace;font-weight: bold;display: inline-block;line-height: 1.2em;}#sk-container-id-1 div.sk-label-container {text-align: center;}#sk-container-id-1 div.sk-container {/* jupyter's `normalize.less` sets `[hidden] { display: none; }` but bootstrap.min.css set `[hidden] { display: none !important; }` so we also need the `!important` here to be able to override the default hidden behavior on the sphinx rendered scikit-learn.org. See: https://github.com/scikit-learn/scikit-learn/issues/21755 */display: inline-block !important;position: relative;}#sk-container-id-1 div.sk-text-repr-fallback {display: none;}</style><div id=\"sk-container-id-1\" class=\"sk-top-container\"><div class=\"sk-text-repr-fallback\"><pre>GridSearchCV(cv=5, estimator=KNeighborsClassifier(),\n",
              "             param_grid={&#x27;n_neighbors&#x27;: range(1, 21, 5), &#x27;p&#x27;: [1, 2]},\n",
              "             scoring=&#x27;accuracy&#x27;)</pre><b>In a Jupyter environment, please rerun this cell to show the HTML representation or trust the notebook. <br />On GitHub, the HTML representation is unable to render, please try loading this page with nbviewer.org.</b></div><div class=\"sk-container\" hidden><div class=\"sk-item sk-dashed-wrapped\"><div class=\"sk-label-container\"><div class=\"sk-label sk-toggleable\"><input class=\"sk-toggleable__control sk-hidden--visually\" id=\"sk-estimator-id-1\" type=\"checkbox\" ><label for=\"sk-estimator-id-1\" class=\"sk-toggleable__label sk-toggleable__label-arrow\">GridSearchCV</label><div class=\"sk-toggleable__content\"><pre>GridSearchCV(cv=5, estimator=KNeighborsClassifier(),\n",
              "             param_grid={&#x27;n_neighbors&#x27;: range(1, 21, 5), &#x27;p&#x27;: [1, 2]},\n",
              "             scoring=&#x27;accuracy&#x27;)</pre></div></div></div><div class=\"sk-parallel\"><div class=\"sk-parallel-item\"><div class=\"sk-item\"><div class=\"sk-label-container\"><div class=\"sk-label sk-toggleable\"><input class=\"sk-toggleable__control sk-hidden--visually\" id=\"sk-estimator-id-2\" type=\"checkbox\" ><label for=\"sk-estimator-id-2\" class=\"sk-toggleable__label sk-toggleable__label-arrow\">estimator: KNeighborsClassifier</label><div class=\"sk-toggleable__content\"><pre>KNeighborsClassifier()</pre></div></div></div><div class=\"sk-serial\"><div class=\"sk-item\"><div class=\"sk-estimator sk-toggleable\"><input class=\"sk-toggleable__control sk-hidden--visually\" id=\"sk-estimator-id-3\" type=\"checkbox\" ><label for=\"sk-estimator-id-3\" class=\"sk-toggleable__label sk-toggleable__label-arrow\">KNeighborsClassifier</label><div class=\"sk-toggleable__content\"><pre>KNeighborsClassifier()</pre></div></div></div></div></div></div></div></div></div></div>"
            ]
          },
          "metadata": {},
          "execution_count": 24
        }
      ]
    },
    {
      "cell_type": "code",
      "source": [
        "pd.DataFrame(grid_search.cv_results_)"
      ],
      "metadata": {
        "colab": {
          "base_uri": "https://localhost:8080/",
          "height": 459
        },
        "id": "P9_d9ZuweTzZ",
        "outputId": "05ff3fb1-0a62-4cc3-b6e2-3cfdc9ee24e6"
      },
      "execution_count": null,
      "outputs": [
        {
          "output_type": "execute_result",
          "data": {
            "text/plain": [
              "   mean_fit_time  std_fit_time  mean_score_time  std_score_time  \\\n",
              "0       0.008445      0.009348         0.030030        0.009827   \n",
              "1       0.003632      0.001781         0.031996        0.005852   \n",
              "2       0.004052      0.002697         0.026162        0.006276   \n",
              "3       0.004673      0.003011         0.022295        0.006438   \n",
              "4       0.003346      0.001817         0.022838        0.008877   \n",
              "5       0.003822      0.002081         0.024522        0.003492   \n",
              "6       0.003247      0.001031         0.035361        0.004462   \n",
              "7       0.004293      0.001041         0.029931        0.008978   \n",
              "\n",
              "  param_n_neighbors param_p                       params  split0_test_score  \\\n",
              "0                 1       1   {'n_neighbors': 1, 'p': 1}           0.979021   \n",
              "1                 1       2   {'n_neighbors': 1, 'p': 2}           0.993007   \n",
              "2                 6       1   {'n_neighbors': 6, 'p': 1}           0.986014   \n",
              "3                 6       2   {'n_neighbors': 6, 'p': 2}           1.000000   \n",
              "4                11       1  {'n_neighbors': 11, 'p': 1}           0.972028   \n",
              "5                11       2  {'n_neighbors': 11, 'p': 2}           0.972028   \n",
              "6                16       1  {'n_neighbors': 16, 'p': 1}           0.937063   \n",
              "7                16       2  {'n_neighbors': 16, 'p': 2}           0.951049   \n",
              "\n",
              "   split1_test_score  split2_test_score  split3_test_score  split4_test_score  \\\n",
              "0           0.979021           0.978873           1.000000           0.985915   \n",
              "1           0.986014           0.985915           1.000000           1.000000   \n",
              "2           0.958042           0.964789           0.936620           0.964789   \n",
              "3           0.965035           0.978873           0.957746           0.985915   \n",
              "4           0.965035           0.964789           0.936620           0.957746   \n",
              "5           0.965035           0.978873           0.929577           0.964789   \n",
              "6           0.958042           0.943662           0.950704           0.950704   \n",
              "7           0.951049           0.964789           0.936620           0.950704   \n",
              "\n",
              "   mean_test_score  std_test_score  rank_test_score  \n",
              "0         0.984566        0.008172                2  \n",
              "1         0.992987        0.006277                1  \n",
              "2         0.962051        0.015824                5  \n",
              "3         0.977514        0.014997                3  \n",
              "4         0.959244        0.012180                6  \n",
              "5         0.962060        0.017050                4  \n",
              "6         0.948035        0.007126                8  \n",
              "7         0.950842        0.008909                7  "
            ],
            "text/html": [
              "\n",
              "  <div id=\"df-7d058047-0bff-432b-b80e-3d76fae9bd7c\" class=\"colab-df-container\">\n",
              "    <div>\n",
              "<style scoped>\n",
              "    .dataframe tbody tr th:only-of-type {\n",
              "        vertical-align: middle;\n",
              "    }\n",
              "\n",
              "    .dataframe tbody tr th {\n",
              "        vertical-align: top;\n",
              "    }\n",
              "\n",
              "    .dataframe thead th {\n",
              "        text-align: right;\n",
              "    }\n",
              "</style>\n",
              "<table border=\"1\" class=\"dataframe\">\n",
              "  <thead>\n",
              "    <tr style=\"text-align: right;\">\n",
              "      <th></th>\n",
              "      <th>mean_fit_time</th>\n",
              "      <th>std_fit_time</th>\n",
              "      <th>mean_score_time</th>\n",
              "      <th>std_score_time</th>\n",
              "      <th>param_n_neighbors</th>\n",
              "      <th>param_p</th>\n",
              "      <th>params</th>\n",
              "      <th>split0_test_score</th>\n",
              "      <th>split1_test_score</th>\n",
              "      <th>split2_test_score</th>\n",
              "      <th>split3_test_score</th>\n",
              "      <th>split4_test_score</th>\n",
              "      <th>mean_test_score</th>\n",
              "      <th>std_test_score</th>\n",
              "      <th>rank_test_score</th>\n",
              "    </tr>\n",
              "  </thead>\n",
              "  <tbody>\n",
              "    <tr>\n",
              "      <th>0</th>\n",
              "      <td>0.008445</td>\n",
              "      <td>0.009348</td>\n",
              "      <td>0.030030</td>\n",
              "      <td>0.009827</td>\n",
              "      <td>1</td>\n",
              "      <td>1</td>\n",
              "      <td>{'n_neighbors': 1, 'p': 1}</td>\n",
              "      <td>0.979021</td>\n",
              "      <td>0.979021</td>\n",
              "      <td>0.978873</td>\n",
              "      <td>1.000000</td>\n",
              "      <td>0.985915</td>\n",
              "      <td>0.984566</td>\n",
              "      <td>0.008172</td>\n",
              "      <td>2</td>\n",
              "    </tr>\n",
              "    <tr>\n",
              "      <th>1</th>\n",
              "      <td>0.003632</td>\n",
              "      <td>0.001781</td>\n",
              "      <td>0.031996</td>\n",
              "      <td>0.005852</td>\n",
              "      <td>1</td>\n",
              "      <td>2</td>\n",
              "      <td>{'n_neighbors': 1, 'p': 2}</td>\n",
              "      <td>0.993007</td>\n",
              "      <td>0.986014</td>\n",
              "      <td>0.985915</td>\n",
              "      <td>1.000000</td>\n",
              "      <td>1.000000</td>\n",
              "      <td>0.992987</td>\n",
              "      <td>0.006277</td>\n",
              "      <td>1</td>\n",
              "    </tr>\n",
              "    <tr>\n",
              "      <th>2</th>\n",
              "      <td>0.004052</td>\n",
              "      <td>0.002697</td>\n",
              "      <td>0.026162</td>\n",
              "      <td>0.006276</td>\n",
              "      <td>6</td>\n",
              "      <td>1</td>\n",
              "      <td>{'n_neighbors': 6, 'p': 1}</td>\n",
              "      <td>0.986014</td>\n",
              "      <td>0.958042</td>\n",
              "      <td>0.964789</td>\n",
              "      <td>0.936620</td>\n",
              "      <td>0.964789</td>\n",
              "      <td>0.962051</td>\n",
              "      <td>0.015824</td>\n",
              "      <td>5</td>\n",
              "    </tr>\n",
              "    <tr>\n",
              "      <th>3</th>\n",
              "      <td>0.004673</td>\n",
              "      <td>0.003011</td>\n",
              "      <td>0.022295</td>\n",
              "      <td>0.006438</td>\n",
              "      <td>6</td>\n",
              "      <td>2</td>\n",
              "      <td>{'n_neighbors': 6, 'p': 2}</td>\n",
              "      <td>1.000000</td>\n",
              "      <td>0.965035</td>\n",
              "      <td>0.978873</td>\n",
              "      <td>0.957746</td>\n",
              "      <td>0.985915</td>\n",
              "      <td>0.977514</td>\n",
              "      <td>0.014997</td>\n",
              "      <td>3</td>\n",
              "    </tr>\n",
              "    <tr>\n",
              "      <th>4</th>\n",
              "      <td>0.003346</td>\n",
              "      <td>0.001817</td>\n",
              "      <td>0.022838</td>\n",
              "      <td>0.008877</td>\n",
              "      <td>11</td>\n",
              "      <td>1</td>\n",
              "      <td>{'n_neighbors': 11, 'p': 1}</td>\n",
              "      <td>0.972028</td>\n",
              "      <td>0.965035</td>\n",
              "      <td>0.964789</td>\n",
              "      <td>0.936620</td>\n",
              "      <td>0.957746</td>\n",
              "      <td>0.959244</td>\n",
              "      <td>0.012180</td>\n",
              "      <td>6</td>\n",
              "    </tr>\n",
              "    <tr>\n",
              "      <th>5</th>\n",
              "      <td>0.003822</td>\n",
              "      <td>0.002081</td>\n",
              "      <td>0.024522</td>\n",
              "      <td>0.003492</td>\n",
              "      <td>11</td>\n",
              "      <td>2</td>\n",
              "      <td>{'n_neighbors': 11, 'p': 2}</td>\n",
              "      <td>0.972028</td>\n",
              "      <td>0.965035</td>\n",
              "      <td>0.978873</td>\n",
              "      <td>0.929577</td>\n",
              "      <td>0.964789</td>\n",
              "      <td>0.962060</td>\n",
              "      <td>0.017050</td>\n",
              "      <td>4</td>\n",
              "    </tr>\n",
              "    <tr>\n",
              "      <th>6</th>\n",
              "      <td>0.003247</td>\n",
              "      <td>0.001031</td>\n",
              "      <td>0.035361</td>\n",
              "      <td>0.004462</td>\n",
              "      <td>16</td>\n",
              "      <td>1</td>\n",
              "      <td>{'n_neighbors': 16, 'p': 1}</td>\n",
              "      <td>0.937063</td>\n",
              "      <td>0.958042</td>\n",
              "      <td>0.943662</td>\n",
              "      <td>0.950704</td>\n",
              "      <td>0.950704</td>\n",
              "      <td>0.948035</td>\n",
              "      <td>0.007126</td>\n",
              "      <td>8</td>\n",
              "    </tr>\n",
              "    <tr>\n",
              "      <th>7</th>\n",
              "      <td>0.004293</td>\n",
              "      <td>0.001041</td>\n",
              "      <td>0.029931</td>\n",
              "      <td>0.008978</td>\n",
              "      <td>16</td>\n",
              "      <td>2</td>\n",
              "      <td>{'n_neighbors': 16, 'p': 2}</td>\n",
              "      <td>0.951049</td>\n",
              "      <td>0.951049</td>\n",
              "      <td>0.964789</td>\n",
              "      <td>0.936620</td>\n",
              "      <td>0.950704</td>\n",
              "      <td>0.950842</td>\n",
              "      <td>0.008909</td>\n",
              "      <td>7</td>\n",
              "    </tr>\n",
              "  </tbody>\n",
              "</table>\n",
              "</div>\n",
              "    <div class=\"colab-df-buttons\">\n",
              "\n",
              "  <div class=\"colab-df-container\">\n",
              "    <button class=\"colab-df-convert\" onclick=\"convertToInteractive('df-7d058047-0bff-432b-b80e-3d76fae9bd7c')\"\n",
              "            title=\"Convert this dataframe to an interactive table.\"\n",
              "            style=\"display:none;\">\n",
              "\n",
              "  <svg xmlns=\"http://www.w3.org/2000/svg\" height=\"24px\" viewBox=\"0 -960 960 960\">\n",
              "    <path d=\"M120-120v-720h720v720H120Zm60-500h600v-160H180v160Zm220 220h160v-160H400v160Zm0 220h160v-160H400v160ZM180-400h160v-160H180v160Zm440 0h160v-160H620v160ZM180-180h160v-160H180v160Zm440 0h160v-160H620v160Z\"/>\n",
              "  </svg>\n",
              "    </button>\n",
              "\n",
              "  <style>\n",
              "    .colab-df-container {\n",
              "      display:flex;\n",
              "      gap: 12px;\n",
              "    }\n",
              "\n",
              "    .colab-df-convert {\n",
              "      background-color: #E8F0FE;\n",
              "      border: none;\n",
              "      border-radius: 50%;\n",
              "      cursor: pointer;\n",
              "      display: none;\n",
              "      fill: #1967D2;\n",
              "      height: 32px;\n",
              "      padding: 0 0 0 0;\n",
              "      width: 32px;\n",
              "    }\n",
              "\n",
              "    .colab-df-convert:hover {\n",
              "      background-color: #E2EBFA;\n",
              "      box-shadow: 0px 1px 2px rgba(60, 64, 67, 0.3), 0px 1px 3px 1px rgba(60, 64, 67, 0.15);\n",
              "      fill: #174EA6;\n",
              "    }\n",
              "\n",
              "    .colab-df-buttons div {\n",
              "      margin-bottom: 4px;\n",
              "    }\n",
              "\n",
              "    [theme=dark] .colab-df-convert {\n",
              "      background-color: #3B4455;\n",
              "      fill: #D2E3FC;\n",
              "    }\n",
              "\n",
              "    [theme=dark] .colab-df-convert:hover {\n",
              "      background-color: #434B5C;\n",
              "      box-shadow: 0px 1px 3px 1px rgba(0, 0, 0, 0.15);\n",
              "      filter: drop-shadow(0px 1px 2px rgba(0, 0, 0, 0.3));\n",
              "      fill: #FFFFFF;\n",
              "    }\n",
              "  </style>\n",
              "\n",
              "    <script>\n",
              "      const buttonEl =\n",
              "        document.querySelector('#df-7d058047-0bff-432b-b80e-3d76fae9bd7c button.colab-df-convert');\n",
              "      buttonEl.style.display =\n",
              "        google.colab.kernel.accessAllowed ? 'block' : 'none';\n",
              "\n",
              "      async function convertToInteractive(key) {\n",
              "        const element = document.querySelector('#df-7d058047-0bff-432b-b80e-3d76fae9bd7c');\n",
              "        const dataTable =\n",
              "          await google.colab.kernel.invokeFunction('convertToInteractive',\n",
              "                                                    [key], {});\n",
              "        if (!dataTable) return;\n",
              "\n",
              "        const docLinkHtml = 'Like what you see? Visit the ' +\n",
              "          '<a target=\"_blank\" href=https://colab.research.google.com/notebooks/data_table.ipynb>data table notebook</a>'\n",
              "          + ' to learn more about interactive tables.';\n",
              "        element.innerHTML = '';\n",
              "        dataTable['output_type'] = 'display_data';\n",
              "        await google.colab.output.renderOutput(dataTable, element);\n",
              "        const docLink = document.createElement('div');\n",
              "        docLink.innerHTML = docLinkHtml;\n",
              "        element.appendChild(docLink);\n",
              "      }\n",
              "    </script>\n",
              "  </div>\n",
              "\n",
              "\n",
              "<div id=\"df-24659c62-fda5-4cc4-97ea-9b7ea3db856e\">\n",
              "  <button class=\"colab-df-quickchart\" onclick=\"quickchart('df-24659c62-fda5-4cc4-97ea-9b7ea3db856e')\"\n",
              "            title=\"Suggest charts\"\n",
              "            style=\"display:none;\">\n",
              "\n",
              "<svg xmlns=\"http://www.w3.org/2000/svg\" height=\"24px\"viewBox=\"0 0 24 24\"\n",
              "     width=\"24px\">\n",
              "    <g>\n",
              "        <path d=\"M19 3H5c-1.1 0-2 .9-2 2v14c0 1.1.9 2 2 2h14c1.1 0 2-.9 2-2V5c0-1.1-.9-2-2-2zM9 17H7v-7h2v7zm4 0h-2V7h2v10zm4 0h-2v-4h2v4z\"/>\n",
              "    </g>\n",
              "</svg>\n",
              "  </button>\n",
              "\n",
              "<style>\n",
              "  .colab-df-quickchart {\n",
              "      --bg-color: #E8F0FE;\n",
              "      --fill-color: #1967D2;\n",
              "      --hover-bg-color: #E2EBFA;\n",
              "      --hover-fill-color: #174EA6;\n",
              "      --disabled-fill-color: #AAA;\n",
              "      --disabled-bg-color: #DDD;\n",
              "  }\n",
              "\n",
              "  [theme=dark] .colab-df-quickchart {\n",
              "      --bg-color: #3B4455;\n",
              "      --fill-color: #D2E3FC;\n",
              "      --hover-bg-color: #434B5C;\n",
              "      --hover-fill-color: #FFFFFF;\n",
              "      --disabled-bg-color: #3B4455;\n",
              "      --disabled-fill-color: #666;\n",
              "  }\n",
              "\n",
              "  .colab-df-quickchart {\n",
              "    background-color: var(--bg-color);\n",
              "    border: none;\n",
              "    border-radius: 50%;\n",
              "    cursor: pointer;\n",
              "    display: none;\n",
              "    fill: var(--fill-color);\n",
              "    height: 32px;\n",
              "    padding: 0;\n",
              "    width: 32px;\n",
              "  }\n",
              "\n",
              "  .colab-df-quickchart:hover {\n",
              "    background-color: var(--hover-bg-color);\n",
              "    box-shadow: 0 1px 2px rgba(60, 64, 67, 0.3), 0 1px 3px 1px rgba(60, 64, 67, 0.15);\n",
              "    fill: var(--button-hover-fill-color);\n",
              "  }\n",
              "\n",
              "  .colab-df-quickchart-complete:disabled,\n",
              "  .colab-df-quickchart-complete:disabled:hover {\n",
              "    background-color: var(--disabled-bg-color);\n",
              "    fill: var(--disabled-fill-color);\n",
              "    box-shadow: none;\n",
              "  }\n",
              "\n",
              "  .colab-df-spinner {\n",
              "    border: 2px solid var(--fill-color);\n",
              "    border-color: transparent;\n",
              "    border-bottom-color: var(--fill-color);\n",
              "    animation:\n",
              "      spin 1s steps(1) infinite;\n",
              "  }\n",
              "\n",
              "  @keyframes spin {\n",
              "    0% {\n",
              "      border-color: transparent;\n",
              "      border-bottom-color: var(--fill-color);\n",
              "      border-left-color: var(--fill-color);\n",
              "    }\n",
              "    20% {\n",
              "      border-color: transparent;\n",
              "      border-left-color: var(--fill-color);\n",
              "      border-top-color: var(--fill-color);\n",
              "    }\n",
              "    30% {\n",
              "      border-color: transparent;\n",
              "      border-left-color: var(--fill-color);\n",
              "      border-top-color: var(--fill-color);\n",
              "      border-right-color: var(--fill-color);\n",
              "    }\n",
              "    40% {\n",
              "      border-color: transparent;\n",
              "      border-right-color: var(--fill-color);\n",
              "      border-top-color: var(--fill-color);\n",
              "    }\n",
              "    60% {\n",
              "      border-color: transparent;\n",
              "      border-right-color: var(--fill-color);\n",
              "    }\n",
              "    80% {\n",
              "      border-color: transparent;\n",
              "      border-right-color: var(--fill-color);\n",
              "      border-bottom-color: var(--fill-color);\n",
              "    }\n",
              "    90% {\n",
              "      border-color: transparent;\n",
              "      border-bottom-color: var(--fill-color);\n",
              "    }\n",
              "  }\n",
              "</style>\n",
              "\n",
              "  <script>\n",
              "    async function quickchart(key) {\n",
              "      const quickchartButtonEl =\n",
              "        document.querySelector('#' + key + ' button');\n",
              "      quickchartButtonEl.disabled = true;  // To prevent multiple clicks.\n",
              "      quickchartButtonEl.classList.add('colab-df-spinner');\n",
              "      try {\n",
              "        const charts = await google.colab.kernel.invokeFunction(\n",
              "            'suggestCharts', [key], {});\n",
              "      } catch (error) {\n",
              "        console.error('Error during call to suggestCharts:', error);\n",
              "      }\n",
              "      quickchartButtonEl.classList.remove('colab-df-spinner');\n",
              "      quickchartButtonEl.classList.add('colab-df-quickchart-complete');\n",
              "    }\n",
              "    (() => {\n",
              "      let quickchartButtonEl =\n",
              "        document.querySelector('#df-24659c62-fda5-4cc4-97ea-9b7ea3db856e button');\n",
              "      quickchartButtonEl.style.display =\n",
              "        google.colab.kernel.accessAllowed ? 'block' : 'none';\n",
              "    })();\n",
              "  </script>\n",
              "</div>\n",
              "    </div>\n",
              "  </div>\n"
            ],
            "application/vnd.google.colaboratory.intrinsic+json": {
              "type": "dataframe",
              "summary": "{\n  \"name\": \"pd\",\n  \"rows\": 8,\n  \"fields\": [\n    {\n      \"column\": \"mean_fit_time\",\n      \"properties\": {\n        \"dtype\": \"number\",\n        \"std\": 0.0016869348704100986,\n        \"min\": 0.0032473087310791017,\n        \"max\": 0.008445072174072265,\n        \"num_unique_values\": 8,\n        \"samples\": [\n          0.003631925582885742,\n          0.003822040557861328,\n          0.008445072174072265\n        ],\n        \"semantic_type\": \"\",\n        \"description\": \"\"\n      }\n    },\n    {\n      \"column\": \"std_fit_time\",\n      \"properties\": {\n        \"dtype\": \"number\",\n        \"std\": 0.0027164934765661077,\n        \"min\": 0.0010312951159756974,\n        \"max\": 0.009347903013853241,\n        \"num_unique_values\": 8,\n        \"samples\": [\n          0.0017807729470133138,\n          0.002081371404472796,\n          0.009347903013853241\n        ],\n        \"semantic_type\": \"\",\n        \"description\": \"\"\n      }\n    },\n    {\n      \"column\": \"mean_score_time\",\n      \"properties\": {\n        \"dtype\": \"number\",\n        \"std\": 0.00466886197658886,\n        \"min\": 0.02229471206665039,\n        \"max\": 0.03536100387573242,\n        \"num_unique_values\": 8,\n        \"samples\": [\n          0.03199648857116699,\n          0.024522113800048827,\n          0.030030202865600587\n        ],\n        \"semantic_type\": \"\",\n        \"description\": \"\"\n      }\n    },\n    {\n      \"column\": \"std_score_time\",\n      \"properties\": {\n        \"dtype\": \"number\",\n        \"std\": 0.0022655667956139177,\n        \"min\": 0.003491573463017832,\n        \"max\": 0.00982704906122572,\n        \"num_unique_values\": 8,\n        \"samples\": [\n          0.005851787575303284,\n          0.003491573463017832,\n          0.00982704906122572\n        ],\n        \"semantic_type\": \"\",\n        \"description\": \"\"\n      }\n    },\n    {\n      \"column\": \"param_n_neighbors\",\n      \"properties\": {\n        \"dtype\": \"date\",\n        \"min\": 1,\n        \"max\": 16,\n        \"num_unique_values\": 4,\n        \"samples\": [\n          6,\n          16,\n          1\n        ],\n        \"semantic_type\": \"\",\n        \"description\": \"\"\n      }\n    },\n    {\n      \"column\": \"param_p\",\n      \"properties\": {\n        \"dtype\": \"date\",\n        \"min\": 1,\n        \"max\": 2,\n        \"num_unique_values\": 2,\n        \"samples\": [\n          2,\n          1\n        ],\n        \"semantic_type\": \"\",\n        \"description\": \"\"\n      }\n    },\n    {\n      \"column\": \"params\",\n      \"properties\": {\n        \"dtype\": \"object\",\n        \"semantic_type\": \"\",\n        \"description\": \"\"\n      }\n    },\n    {\n      \"column\": \"split0_test_score\",\n      \"properties\": {\n        \"dtype\": \"number\",\n        \"std\": 0.021062106535772247,\n        \"min\": 0.9370629370629371,\n        \"max\": 1.0,\n        \"num_unique_values\": 7,\n        \"samples\": [\n          0.9790209790209791,\n          0.993006993006993\n        ],\n        \"semantic_type\": \"\",\n        \"description\": \"\"\n      }\n    },\n    {\n      \"column\": \"split1_test_score\",\n      \"properties\": {\n        \"dtype\": \"number\",\n        \"std\": 0.01148308085172095,\n        \"min\": 0.951048951048951,\n        \"max\": 0.986013986013986,\n        \"num_unique_values\": 5,\n        \"samples\": [\n          0.986013986013986,\n          0.951048951048951\n        ],\n        \"semantic_type\": \"\",\n        \"description\": \"\"\n      }\n    },\n    {\n      \"column\": \"split2_test_score\",\n      \"properties\": {\n        \"dtype\": \"number\",\n        \"std\": 0.01344103542845815,\n        \"min\": 0.9436619718309859,\n        \"max\": 0.9859154929577465,\n        \"num_unique_values\": 4,\n        \"samples\": [\n          0.9859154929577465,\n          0.9436619718309859\n        ],\n        \"semantic_type\": \"\",\n        \"description\": \"\"\n      }\n    },\n    {\n      \"column\": \"split3_test_score\",\n      \"properties\": {\n        \"dtype\": \"number\",\n        \"std\": 0.02860576903040832,\n        \"min\": 0.9295774647887324,\n        \"max\": 1.0,\n        \"num_unique_values\": 5,\n        \"samples\": [\n          0.9366197183098591,\n          0.9507042253521126\n        ],\n        \"semantic_type\": \"\",\n        \"description\": \"\"\n      }\n    },\n    {\n      \"column\": \"split4_test_score\",\n      \"properties\": {\n        \"dtype\": \"number\",\n        \"std\": 0.01834465043139888,\n        \"min\": 0.9507042253521126,\n        \"max\": 1.0,\n        \"num_unique_values\": 5,\n        \"samples\": [\n          1.0,\n          0.9507042253521126\n        ],\n        \"semantic_type\": \"\",\n        \"description\": \"\"\n      }\n    },\n    {\n      \"column\": \"mean_test_score\",\n      \"properties\": {\n        \"dtype\": \"number\",\n        \"std\": 0.016142428572057468,\n        \"min\": 0.9480350635280212,\n        \"max\": 0.9929872943957452,\n        \"num_unique_values\": 8,\n        \"samples\": [\n          0.9929872943957452,\n          0.9620604747365311\n        ],\n        \"semantic_type\": \"\",\n        \"description\": \"\"\n      }\n    },\n    {\n      \"column\": \"std_test_score\",\n      \"properties\": {\n        \"dtype\": \"number\",\n        \"std\": 0.004244652142647573,\n        \"min\": 0.006276844321548391,\n        \"max\": 0.017049674347430994,\n        \"num_unique_values\": 8,\n        \"samples\": [\n          0.006276844321548391,\n          0.017049674347430994\n        ],\n        \"semantic_type\": \"\",\n        \"description\": \"\"\n      }\n    },\n    {\n      \"column\": \"rank_test_score\",\n      \"properties\": {\n        \"dtype\": \"int32\",\n        \"num_unique_values\": 8,\n        \"samples\": [\n          1,\n          4\n        ],\n        \"semantic_type\": \"\",\n        \"description\": \"\"\n      }\n    }\n  ]\n}"
            }
          },
          "metadata": {},
          "execution_count": 25
        }
      ]
    },
    {
      "cell_type": "code",
      "source": [
        "grid_search.best_params_"
      ],
      "metadata": {
        "colab": {
          "base_uri": "https://localhost:8080/"
        },
        "id": "IBFg9NZGeadR",
        "outputId": "50aa2022-9e4f-4fd8-8a7c-6c7333f351b5"
      },
      "execution_count": null,
      "outputs": [
        {
          "output_type": "execute_result",
          "data": {
            "text/plain": [
              "{'n_neighbors': 1, 'p': 2}"
            ]
          },
          "metadata": {},
          "execution_count": 26
        }
      ]
    },
    {
      "cell_type": "code",
      "source": [
        "best_knn = grid_search.best_estimator_\n",
        "best_params = grid_search.best_params_\n",
        "print(best_knn)\n",
        "print(best_params)"
      ],
      "metadata": {
        "colab": {
          "base_uri": "https://localhost:8080/"
        },
        "id": "Pl3jrEM4eixj",
        "outputId": "450e5b5f-c76e-4965-810b-123a40237e95"
      },
      "execution_count": null,
      "outputs": [
        {
          "output_type": "stream",
          "name": "stdout",
          "text": [
            "KNeighborsClassifier(n_neighbors=1)\n",
            "{'n_neighbors': 1, 'p': 2}\n"
          ]
        }
      ]
    },
    {
      "cell_type": "code",
      "source": [
        "cv_scores = cross_val_score(best_knn, x_train_scaled, y_train, cv=5, scoring='accuracy')\n",
        "print(cv_scores)\n",
        "print(cv_scores.mean(axis=0))"
      ],
      "metadata": {
        "colab": {
          "base_uri": "https://localhost:8080/"
        },
        "id": "mP8jI50ieuPl",
        "outputId": "5b9abf06-43df-4758-cdd7-5b393c2fe737"
      },
      "execution_count": null,
      "outputs": [
        {
          "output_type": "stream",
          "name": "stdout",
          "text": [
            "[0.99300699 0.98601399 0.98591549 1.         1.        ]\n",
            "0.9929872943957452\n"
          ]
        }
      ]
    },
    {
      "cell_type": "code",
      "source": [
        "# Предсказания knn\n",
        "y_train_pred_knn = best_knn.predict(x_train_scaled)\n",
        "y_test_pred_knn = best_knn.predict(x_test_scaled)\n",
        "y_train_proba_knn = best_knn.predict_proba(x_train_scaled)[:, 1]\n",
        "y_test_proba_knn = best_knn.predict_proba(x_test_scaled)[:, 1]\n",
        "\n",
        "# Матрица ошибок\n",
        "error_matr_train_knn = confusion_matrix(y_train, y_train_pred_knn)\n",
        "error_matr_test_knn = confusion_matrix(y_test, y_test_pred_knn)\n",
        "print('Матрица ошибок train:', error_matr_train_knn)\n",
        "print('Матрица ошибок test:', error_matr_test_knn)\n",
        "\n",
        "# Метрики для KNN\n",
        "# accuracy\n",
        "accuracy_train_knn = accuracy_score(y_train, y_train_pred_knn)\n",
        "accuracy_test_knn = accuracy_score(y_test, y_test_pred_knn)\n",
        "print('Accuracy train:', accuracy_train_knn)\n",
        "print('Accuracy test:', accuracy_test_knn)\n",
        "\n",
        "# precision\n",
        "precision_train_knn = precision_score(y_train, y_train_pred_knn)\n",
        "precision_test_knn = precision_score(y_test, y_test_pred_knn)\n",
        "print('Training Precision:', precision_train_knn)\n",
        "print('Test Precision:', precision_test_knn)\n",
        "\n",
        "# recall\n",
        "recall_train_knn = recall_score(y_train, y_train_pred_knn)\n",
        "recall_test_knn = recall_score(y_test, y_test_pred_knn)\n",
        "print('Training Recall:', recall_train_knn)\n",
        "print('Test Recall:', recall_test_knn)\n",
        "\n",
        "# AUC ROC\n",
        "auc_roc_train_knn = roc_auc_score(y_train, y_train_proba_knn)\n",
        "auc_roc_test_knn = roc_auc_score(y_test, y_test_proba_knn)\n",
        "print('AUC ROC train:', auc_roc_train_knn)\n",
        "print('AUC ROC test:', auc_roc_test_knn)"
      ],
      "metadata": {
        "colab": {
          "base_uri": "https://localhost:8080/"
        },
        "id": "CZ3Iebw5HFy8",
        "outputId": "0453f670-f379-4a97-c51c-3f62a1a20681"
      },
      "execution_count": null,
      "outputs": [
        {
          "output_type": "stream",
          "name": "stdout",
          "text": [
            "Матрица ошибок train: [[444   0]\n",
            " [  0 268]]\n",
            "Матрица ошибок test: [[104   1]\n",
            " [  1  73]]\n",
            "Accuracy train: 1.0\n",
            "Accuracy test: 0.9888268156424581\n",
            "Training Precision: 1.0\n",
            "Test Precision: 0.9864864864864865\n",
            "Training Recall: 1.0\n",
            "Test Recall: 0.9864864864864865\n",
            "AUC ROC train: 1.0\n",
            "AUC ROC test: 0.9884813384813385\n"
          ]
        }
      ]
    },
    {
      "cell_type": "markdown",
      "source": [
        "## Построение модели логистическая регрессия"
      ],
      "metadata": {
        "id": "tM5SNIZXbSEF"
      }
    },
    {
      "cell_type": "markdown",
      "source": [
        "<font color='1A9BFF'>**1. Задаю сетку параметров для параметров: тип регуляризации, параметр регуляризации**</font>   \n",
        "<font color='1A9BFF'>**2. С помощью gridsearch выбираю наилучшие параметров**</font>   \n",
        "<font color='1A9BFF'>**3. С помощью кросс-валидации хочу убедиться, что модель с минимальным переобучением**</font>\n",
        "\n"
      ],
      "metadata": {
        "id": "2xd9X4FJbWm8"
      }
    },
    {
      "cell_type": "code",
      "source": [
        "# Сетка параметров\n",
        "param_grid_logr = {'C': [0.01, 0.1, 1, 10, 20, 30, 50, 100], 'penalty': ['l1', 'l2']}\n",
        "\n",
        "# Модель логистической регрессии\n",
        "logreg_model = LogisticRegression(solver='saga', max_iter=100000)\n",
        "\n",
        "# Объект RandomizedSearchCV с моделью логистической регрессии и сеткой параметров\n",
        "random_grid_search_logr = RandomizedSearchCV(logreg_model, param_distributions = param_grid_logr, n_iter=10, cv=5, scoring='accuracy')\n",
        "random_grid_search_logr.fit(x_train_scaled, y_train)\n",
        "\n",
        "print('Лучшие значения параметров:', random_grid_search_logr.best_params_)\n",
        "best_logr_params = random_grid_search_logr.best_params_\n",
        "best_logr_model = LogisticRegression(solver='saga', max_iter=100000, **best_logr_params)\n",
        "\n",
        "cv_scores = cross_val_score(best_logr_model, x_train_scaled, y_train, cv=5, scoring='accuracy')\n",
        "print(cv_scores)\n",
        "print(cv_scores.mean(axis=0))"
      ],
      "metadata": {
        "id": "xfIWxbzibe7E",
        "colab": {
          "base_uri": "https://localhost:8080/"
        },
        "outputId": "9c490fc3-2cc6-4ce0-d8a6-8db38632e7ec"
      },
      "execution_count": null,
      "outputs": [
        {
          "output_type": "stream",
          "name": "stdout",
          "text": [
            "Лучшие значения параметров: {'penalty': 'l1', 'C': 50}\n",
            "[1. 1. 1. 1. 1.]\n",
            "1.0\n"
          ]
        }
      ]
    },
    {
      "cell_type": "code",
      "source": [
        "# Построение модели логистической регрессии\n",
        "best_logreg_model = LogisticRegression(solver='saga',  max_iter=1000, **random_grid_search_logr.best_params_)\n",
        "best_logreg_model.fit(x_train_scaled, y_train)"
      ],
      "metadata": {
        "colab": {
          "base_uri": "https://localhost:8080/",
          "height": 74
        },
        "id": "ociKU6nwpWAm",
        "outputId": "1fe5c9c5-449c-452e-c6bc-d3a9f7698459"
      },
      "execution_count": null,
      "outputs": [
        {
          "output_type": "execute_result",
          "data": {
            "text/plain": [
              "LogisticRegression(C=50, max_iter=1000, penalty='l1', solver='saga')"
            ],
            "text/html": [
              "<style>#sk-container-id-2 {color: black;background-color: white;}#sk-container-id-2 pre{padding: 0;}#sk-container-id-2 div.sk-toggleable {background-color: white;}#sk-container-id-2 label.sk-toggleable__label {cursor: pointer;display: block;width: 100%;margin-bottom: 0;padding: 0.3em;box-sizing: border-box;text-align: center;}#sk-container-id-2 label.sk-toggleable__label-arrow:before {content: \"▸\";float: left;margin-right: 0.25em;color: #696969;}#sk-container-id-2 label.sk-toggleable__label-arrow:hover:before {color: black;}#sk-container-id-2 div.sk-estimator:hover label.sk-toggleable__label-arrow:before {color: black;}#sk-container-id-2 div.sk-toggleable__content {max-height: 0;max-width: 0;overflow: hidden;text-align: left;background-color: #f0f8ff;}#sk-container-id-2 div.sk-toggleable__content pre {margin: 0.2em;color: black;border-radius: 0.25em;background-color: #f0f8ff;}#sk-container-id-2 input.sk-toggleable__control:checked~div.sk-toggleable__content {max-height: 200px;max-width: 100%;overflow: auto;}#sk-container-id-2 input.sk-toggleable__control:checked~label.sk-toggleable__label-arrow:before {content: \"▾\";}#sk-container-id-2 div.sk-estimator input.sk-toggleable__control:checked~label.sk-toggleable__label {background-color: #d4ebff;}#sk-container-id-2 div.sk-label input.sk-toggleable__control:checked~label.sk-toggleable__label {background-color: #d4ebff;}#sk-container-id-2 input.sk-hidden--visually {border: 0;clip: rect(1px 1px 1px 1px);clip: rect(1px, 1px, 1px, 1px);height: 1px;margin: -1px;overflow: hidden;padding: 0;position: absolute;width: 1px;}#sk-container-id-2 div.sk-estimator {font-family: monospace;background-color: #f0f8ff;border: 1px dotted black;border-radius: 0.25em;box-sizing: border-box;margin-bottom: 0.5em;}#sk-container-id-2 div.sk-estimator:hover {background-color: #d4ebff;}#sk-container-id-2 div.sk-parallel-item::after {content: \"\";width: 100%;border-bottom: 1px solid gray;flex-grow: 1;}#sk-container-id-2 div.sk-label:hover label.sk-toggleable__label {background-color: #d4ebff;}#sk-container-id-2 div.sk-serial::before {content: \"\";position: absolute;border-left: 1px solid gray;box-sizing: border-box;top: 0;bottom: 0;left: 50%;z-index: 0;}#sk-container-id-2 div.sk-serial {display: flex;flex-direction: column;align-items: center;background-color: white;padding-right: 0.2em;padding-left: 0.2em;position: relative;}#sk-container-id-2 div.sk-item {position: relative;z-index: 1;}#sk-container-id-2 div.sk-parallel {display: flex;align-items: stretch;justify-content: center;background-color: white;position: relative;}#sk-container-id-2 div.sk-item::before, #sk-container-id-2 div.sk-parallel-item::before {content: \"\";position: absolute;border-left: 1px solid gray;box-sizing: border-box;top: 0;bottom: 0;left: 50%;z-index: -1;}#sk-container-id-2 div.sk-parallel-item {display: flex;flex-direction: column;z-index: 1;position: relative;background-color: white;}#sk-container-id-2 div.sk-parallel-item:first-child::after {align-self: flex-end;width: 50%;}#sk-container-id-2 div.sk-parallel-item:last-child::after {align-self: flex-start;width: 50%;}#sk-container-id-2 div.sk-parallel-item:only-child::after {width: 0;}#sk-container-id-2 div.sk-dashed-wrapped {border: 1px dashed gray;margin: 0 0.4em 0.5em 0.4em;box-sizing: border-box;padding-bottom: 0.4em;background-color: white;}#sk-container-id-2 div.sk-label label {font-family: monospace;font-weight: bold;display: inline-block;line-height: 1.2em;}#sk-container-id-2 div.sk-label-container {text-align: center;}#sk-container-id-2 div.sk-container {/* jupyter's `normalize.less` sets `[hidden] { display: none; }` but bootstrap.min.css set `[hidden] { display: none !important; }` so we also need the `!important` here to be able to override the default hidden behavior on the sphinx rendered scikit-learn.org. See: https://github.com/scikit-learn/scikit-learn/issues/21755 */display: inline-block !important;position: relative;}#sk-container-id-2 div.sk-text-repr-fallback {display: none;}</style><div id=\"sk-container-id-2\" class=\"sk-top-container\"><div class=\"sk-text-repr-fallback\"><pre>LogisticRegression(C=50, max_iter=1000, penalty=&#x27;l1&#x27;, solver=&#x27;saga&#x27;)</pre><b>In a Jupyter environment, please rerun this cell to show the HTML representation or trust the notebook. <br />On GitHub, the HTML representation is unable to render, please try loading this page with nbviewer.org.</b></div><div class=\"sk-container\" hidden><div class=\"sk-item\"><div class=\"sk-estimator sk-toggleable\"><input class=\"sk-toggleable__control sk-hidden--visually\" id=\"sk-estimator-id-4\" type=\"checkbox\" checked><label for=\"sk-estimator-id-4\" class=\"sk-toggleable__label sk-toggleable__label-arrow\">LogisticRegression</label><div class=\"sk-toggleable__content\"><pre>LogisticRegression(C=50, max_iter=1000, penalty=&#x27;l1&#x27;, solver=&#x27;saga&#x27;)</pre></div></div></div></div></div>"
            ]
          },
          "metadata": {},
          "execution_count": 33
        }
      ]
    },
    {
      "cell_type": "markdown",
      "source": [
        "## Оценка качества  моделей и выбор наилучшей"
      ],
      "metadata": {
        "id": "dAKWcu8Y9SfX"
      }
    },
    {
      "cell_type": "markdown",
      "source": [
        "\n",
        "\n",
        "<font color='1A9BFF'>**Считаю метрики качества: матрицу ошибок, accuracy, precision, recall, AUC ROC**</font>   "
      ],
      "metadata": {
        "id": "-PazUVIU9WgI"
      }
    },
    {
      "cell_type": "code",
      "source": [
        "# best threshold\n",
        "def calc_optimal_cutoff(y_pred, y_fact):\n",
        "  # Оптимальный порог\n",
        "  f1_list = []\n",
        "  thresholds = np.linspace(0, 1, num=100)\n",
        "  for threshold in thresholds:\n",
        "    y_pred_thresholded = (y_pred >= threshold).astype(int)\n",
        "\n",
        "    f1 = f1_score(y_fact, y_pred_thresholded)\n",
        "    f1_list.append(f1)\n",
        "\n",
        "  # Индекс максимальной f1\n",
        "  best_f1_index = np.argmax(f1_list)\n",
        "  best_threshold = thresholds[best_f1_index]\n",
        "  print('Оптимальный порог:', best_threshold)\n",
        "  print('максимальная F1-мера:', f1_list[best_f1_index])\n",
        "\n",
        "  return best_threshold"
      ],
      "metadata": {
        "id": "jhzd3JCO9qf0"
      },
      "execution_count": null,
      "outputs": []
    },
    {
      "cell_type": "code",
      "source": [
        "# Предсказания\n",
        "y_train_proba_logr = best_logreg_model.predict_proba(x_train_scaled)[:, 1]\n",
        "y_test_proba_logr = best_logreg_model.predict_proba(x_test_scaled)[:, 1]\n",
        "\n",
        "best_threshold = calc_optimal_cutoff(y_train_proba_logr, y_train)\n",
        "\n",
        "y_train_pred_logr = (y_train_proba_logr >= best_threshold).astype(int)\n",
        "y_test_pred_logr = (y_test_proba_logr >= best_threshold).astype(int)\n",
        "\n",
        "\n",
        "# Матрица ошибок\n",
        "error_matr_train_logr = confusion_matrix(y_train, y_train_pred_logr)\n",
        "error_matr_test_logr = confusion_matrix(y_test, y_test_pred_logr)\n",
        "print('Матрица ошибок train:', error_matr_train_logr)\n",
        "print('Матрица ошибок test:', error_matr_test_logr)\n",
        "\n",
        "# accuracy\n",
        "accuracy_train_logr = accuracy_score(y_train, y_train_pred_logr)\n",
        "accuracy_test_logr = accuracy_score(y_test, y_test_pred_logr)\n",
        "print('Accuracy train:', accuracy_train_logr)\n",
        "print('Accuracy test:', accuracy_test_logr)\n",
        "\n",
        "# precision\n",
        "precision_train_logr = precision_score(y_train, y_train_pred_logr)\n",
        "precision_test_logr = precision_score(y_test, y_test_pred_logr)\n",
        "print('Training Precision:', precision_train_logr)\n",
        "print('Test Precision:', precision_test_logr)\n",
        "\n",
        "# recall\n",
        "recall_train_logr =  recall_score(y_train, y_train_pred_logr)\n",
        "recall_test_logr =  recall_score(y_test, y_test_pred_logr)\n",
        "print('Training Recall:', recall_train_logr)\n",
        "print('Test Recall:', recall_test_logr)\n",
        "\n",
        "# AUC ROC\n",
        "auc_roc_train_logr = roc_auc_score(y_train, y_train_proba_logr)\n",
        "auc_roc_test_logr = roc_auc_score(y_test, y_test_proba_logr)\n",
        "print('AUC ROC train:', auc_roc_train_logr)\n",
        "print('AUC ROC test:', auc_roc_test_logr)"
      ],
      "metadata": {
        "id": "D7hyDvmp9gvY",
        "colab": {
          "base_uri": "https://localhost:8080/"
        },
        "outputId": "4e8f69ef-9878-4611-9ff4-b4417e89d03c"
      },
      "execution_count": null,
      "outputs": [
        {
          "output_type": "stream",
          "name": "stdout",
          "text": [
            "Оптимальный порог: 0.010101010101010102\n",
            "максимальная F1-мера: 1.0\n",
            "Матрица ошибок train: [[444   0]\n",
            " [  0 268]]\n",
            "Матрица ошибок test: [[105   0]\n",
            " [  0  74]]\n",
            "Accuracy train: 1.0\n",
            "Accuracy test: 1.0\n",
            "Training Precision: 1.0\n",
            "Test Precision: 1.0\n",
            "Training Recall: 1.0\n",
            "Test Recall: 1.0\n",
            "AUC ROC train: 1.0\n",
            "AUC ROC test: 1.0\n"
          ]
        }
      ]
    },
    {
      "cell_type": "markdown",
      "source": [
        "\n",
        "<font color='1A9BFF'>**Строю график ROC кривой**</font>   "
      ],
      "metadata": {
        "id": "h48TGrZc_cme"
      }
    },
    {
      "cell_type": "code",
      "source": [
        "# Коэффициенты\n",
        "fpr_test, tpr_test, best_threshold = roc_curve(y_test, y_test_proba_logr)\n",
        "fpr_train, tpr_train, best_threshold = roc_curve(y_train, y_train_proba_logr)\n",
        "\n",
        "plt.figure(figsize=(10, 6))\n",
        "plt.plot(fpr_test, tpr_test, color='blue', lw=2, label = 'ROC Curve test')\n",
        "plt.plot(fpr_train, tpr_train, color='darkorange', lw=2, label = 'ROC Curve train')\n",
        "plt.plot([0, 1], [0, 1], color='navy', lw=2, linestyle='--')\n",
        "plt.xlabel('False Positive Rate')\n",
        "plt.ylabel('True Positive Rate')\n",
        "plt.legend()\n",
        "plt.title(f'ROC Curve ({type(best_logreg_model).__name__})')\n",
        "plt.show()"
      ],
      "metadata": {
        "id": "MEz6vr3V_iA6",
        "colab": {
          "base_uri": "https://localhost:8080/",
          "height": 564
        },
        "outputId": "204352c7-5c92-4d8f-e38f-a4325044a378"
      },
      "execution_count": null,
      "outputs": [
        {
          "output_type": "display_data",
          "data": {
            "text/plain": [
              "<Figure size 1000x600 with 1 Axes>"
            ],
            "image/png": "[encoded data removed]"
          },
          "metadata": {}
        }
      ]
    },
    {
      "cell_type": "markdown",
      "source": [
        "<font color='1A9BFF'>**Сравниваю модель knn и модель логистическая регрессия, выбираю наилучшую**</font>   \n",
        "\n"
      ],
      "metadata": {
        "id": "nfaXtGMIb1T0"
      }
    },
    {
      "cell_type": "code",
      "source": [
        "# Создание таблицы с метриками\n",
        "metrics_data = {\n",
        "    'params': ['knn', 'logreg'],\n",
        "    'Test_Precision': [precision_test_knn, precision_test_logr],\n",
        "    'Training_Precision': [precision_train_knn, precision_train_logr],\n",
        "    'Test_Recall': [recall_test_knn, recall_test_logr],\n",
        "    'Training_Recall': [recall_train_knn, recall_train_logr],\n",
        "    'roc_auc_train': [auc_roc_train_knn, auc_roc_train_logr],\n",
        "    'roc_auc_test': [auc_roc_test_knn, auc_roc_test_logr],\n",
        "    'dif_Precision': [precision_train_knn - precision_test_knn, precision_train_logr - precision_test_logr],\n",
        "    'dif_roc_auc': [auc_roc_train_knn - auc_roc_test_knn, auc_roc_train_logr - auc_roc_test_logr],\n",
        "    'dif_Recall': [recall_train_knn - recall_test_knn, recall_train_logr - recall_test_logr]\n",
        "}\n",
        "metrics_df = pd.DataFrame(metrics_data)\n",
        "print(metrics_df)"
      ],
      "metadata": {
        "id": "0UOY71Y4b4vU",
        "colab": {
          "base_uri": "https://localhost:8080/"
        },
        "outputId": "44d05156-6b97-4a33-a12e-bc67f0f0b6ba"
      },
      "execution_count": null,
      "outputs": [
        {
          "output_type": "stream",
          "name": "stdout",
          "text": [
            "   params  Test_Precision  Training_Precision  Test_Recall  Training_Recall  \\\n",
            "0     knn        0.986486                 1.0     0.986486              1.0   \n",
            "1  logreg        1.000000                 1.0     1.000000              1.0   \n",
            "\n",
            "   roc_auc_train  roc_auc_test  dif_Precision  dif_roc_auc  dif_Recall  \n",
            "0            1.0      0.988481       0.013514     0.011519    0.013514  \n",
            "1            1.0      1.000000       0.000000     0.000000    0.000000  \n"
          ]
        }
      ]
    },
    {
      "cell_type": "code",
      "source": [
        "metrics_df.T"
      ],
      "metadata": {
        "colab": {
          "base_uri": "https://localhost:8080/",
          "height": 363
        },
        "id": "LQ4CmoCNJ6bP",
        "outputId": "0bbf05f5-6bde-4c1c-d6e3-4ab3f11ddeb7"
      },
      "execution_count": null,
      "outputs": [
        {
          "output_type": "execute_result",
          "data": {
            "text/plain": [
              "                           0       1\n",
              "params                   knn  logreg\n",
              "Test_Precision      0.986486     1.0\n",
              "Training_Precision       1.0     1.0\n",
              "Test_Recall         0.986486     1.0\n",
              "Training_Recall          1.0     1.0\n",
              "roc_auc_train            1.0     1.0\n",
              "roc_auc_test        0.988481     1.0\n",
              "dif_Precision       0.013514     0.0\n",
              "dif_roc_auc         0.011519     0.0\n",
              "dif_Recall          0.013514     0.0"
            ],
            "text/html": [
              "\n",
              "  <div id=\"df-0d5a1517-dfcd-42b8-925e-1e24fc0c38ee\" class=\"colab-df-container\">\n",
              "    <div>\n",
              "<style scoped>\n",
              "    .dataframe tbody tr th:only-of-type {\n",
              "        vertical-align: middle;\n",
              "    }\n",
              "\n",
              "    .dataframe tbody tr th {\n",
              "        vertical-align: top;\n",
              "    }\n",
              "\n",
              "    .dataframe thead th {\n",
              "        text-align: right;\n",
              "    }\n",
              "</style>\n",
              "<table border=\"1\" class=\"dataframe\">\n",
              "  <thead>\n",
              "    <tr style=\"text-align: right;\">\n",
              "      <th></th>\n",
              "      <th>0</th>\n",
              "      <th>1</th>\n",
              "    </tr>\n",
              "  </thead>\n",
              "  <tbody>\n",
              "    <tr>\n",
              "      <th>params</th>\n",
              "      <td>knn</td>\n",
              "      <td>logreg</td>\n",
              "    </tr>\n",
              "    <tr>\n",
              "      <th>Test_Precision</th>\n",
              "      <td>0.986486</td>\n",
              "      <td>1.0</td>\n",
              "    </tr>\n",
              "    <tr>\n",
              "      <th>Training_Precision</th>\n",
              "      <td>1.0</td>\n",
              "      <td>1.0</td>\n",
              "    </tr>\n",
              "    <tr>\n",
              "      <th>Test_Recall</th>\n",
              "      <td>0.986486</td>\n",
              "      <td>1.0</td>\n",
              "    </tr>\n",
              "    <tr>\n",
              "      <th>Training_Recall</th>\n",
              "      <td>1.0</td>\n",
              "      <td>1.0</td>\n",
              "    </tr>\n",
              "    <tr>\n",
              "      <th>roc_auc_train</th>\n",
              "      <td>1.0</td>\n",
              "      <td>1.0</td>\n",
              "    </tr>\n",
              "    <tr>\n",
              "      <th>roc_auc_test</th>\n",
              "      <td>0.988481</td>\n",
              "      <td>1.0</td>\n",
              "    </tr>\n",
              "    <tr>\n",
              "      <th>dif_Precision</th>\n",
              "      <td>0.013514</td>\n",
              "      <td>0.0</td>\n",
              "    </tr>\n",
              "    <tr>\n",
              "      <th>dif_roc_auc</th>\n",
              "      <td>0.011519</td>\n",
              "      <td>0.0</td>\n",
              "    </tr>\n",
              "    <tr>\n",
              "      <th>dif_Recall</th>\n",
              "      <td>0.013514</td>\n",
              "      <td>0.0</td>\n",
              "    </tr>\n",
              "  </tbody>\n",
              "</table>\n",
              "</div>\n",
              "    <div class=\"colab-df-buttons\">\n",
              "\n",
              "  <div class=\"colab-df-container\">\n",
              "    <button class=\"colab-df-convert\" onclick=\"convertToInteractive('df-0d5a1517-dfcd-42b8-925e-1e24fc0c38ee')\"\n",
              "            title=\"Convert this dataframe to an interactive table.\"\n",
              "            style=\"display:none;\">\n",
              "\n",
              "  <svg xmlns=\"http://www.w3.org/2000/svg\" height=\"24px\" viewBox=\"0 -960 960 960\">\n",
              "    <path d=\"M120-120v-720h720v720H120Zm60-500h600v-160H180v160Zm220 220h160v-160H400v160Zm0 220h160v-160H400v160ZM180-400h160v-160H180v160Zm440 0h160v-160H620v160ZM180-180h160v-160H180v160Zm440 0h160v-160H620v160Z\"/>\n",
              "  </svg>\n",
              "    </button>\n",
              "\n",
              "  <style>\n",
              "    .colab-df-container {\n",
              "      display:flex;\n",
              "      gap: 12px;\n",
              "    }\n",
              "\n",
              "    .colab-df-convert {\n",
              "      background-color: #E8F0FE;\n",
              "      border: none;\n",
              "      border-radius: 50%;\n",
              "      cursor: pointer;\n",
              "      display: none;\n",
              "      fill: #1967D2;\n",
              "      height: 32px;\n",
              "      padding: 0 0 0 0;\n",
              "      width: 32px;\n",
              "    }\n",
              "\n",
              "    .colab-df-convert:hover {\n",
              "      background-color: #E2EBFA;\n",
              "      box-shadow: 0px 1px 2px rgba(60, 64, 67, 0.3), 0px 1px 3px 1px rgba(60, 64, 67, 0.15);\n",
              "      fill: #174EA6;\n",
              "    }\n",
              "\n",
              "    .colab-df-buttons div {\n",
              "      margin-bottom: 4px;\n",
              "    }\n",
              "\n",
              "    [theme=dark] .colab-df-convert {\n",
              "      background-color: #3B4455;\n",
              "      fill: #D2E3FC;\n",
              "    }\n",
              "\n",
              "    [theme=dark] .colab-df-convert:hover {\n",
              "      background-color: #434B5C;\n",
              "      box-shadow: 0px 1px 3px 1px rgba(0, 0, 0, 0.15);\n",
              "      filter: drop-shadow(0px 1px 2px rgba(0, 0, 0, 0.3));\n",
              "      fill: #FFFFFF;\n",
              "    }\n",
              "  </style>\n",
              "\n",
              "    <script>\n",
              "      const buttonEl =\n",
              "        document.querySelector('#df-0d5a1517-dfcd-42b8-925e-1e24fc0c38ee button.colab-df-convert');\n",
              "      buttonEl.style.display =\n",
              "        google.colab.kernel.accessAllowed ? 'block' : 'none';\n",
              "\n",
              "      async function convertToInteractive(key) {\n",
              "        const element = document.querySelector('#df-0d5a1517-dfcd-42b8-925e-1e24fc0c38ee');\n",
              "        const dataTable =\n",
              "          await google.colab.kernel.invokeFunction('convertToInteractive',\n",
              "                                                    [key], {});\n",
              "        if (!dataTable) return;\n",
              "\n",
              "        const docLinkHtml = 'Like what you see? Visit the ' +\n",
              "          '<a target=\"_blank\" href=https://colab.research.google.com/notebooks/data_table.ipynb>data table notebook</a>'\n",
              "          + ' to learn more about interactive tables.';\n",
              "        element.innerHTML = '';\n",
              "        dataTable['output_type'] = 'display_data';\n",
              "        await google.colab.output.renderOutput(dataTable, element);\n",
              "        const docLink = document.createElement('div');\n",
              "        docLink.innerHTML = docLinkHtml;\n",
              "        element.appendChild(docLink);\n",
              "      }\n",
              "    </script>\n",
              "  </div>\n",
              "\n",
              "\n",
              "<div id=\"df-ece80deb-6c99-4139-ab35-833b876df930\">\n",
              "  <button class=\"colab-df-quickchart\" onclick=\"quickchart('df-ece80deb-6c99-4139-ab35-833b876df930')\"\n",
              "            title=\"Suggest charts\"\n",
              "            style=\"display:none;\">\n",
              "\n",
              "<svg xmlns=\"http://www.w3.org/2000/svg\" height=\"24px\"viewBox=\"0 0 24 24\"\n",
              "     width=\"24px\">\n",
              "    <g>\n",
              "        <path d=\"M19 3H5c-1.1 0-2 .9-2 2v14c0 1.1.9 2 2 2h14c1.1 0 2-.9 2-2V5c0-1.1-.9-2-2-2zM9 17H7v-7h2v7zm4 0h-2V7h2v10zm4 0h-2v-4h2v4z\"/>\n",
              "    </g>\n",
              "</svg>\n",
              "  </button>\n",
              "\n",
              "<style>\n",
              "  .colab-df-quickchart {\n",
              "      --bg-color: #E8F0FE;\n",
              "      --fill-color: #1967D2;\n",
              "      --hover-bg-color: #E2EBFA;\n",
              "      --hover-fill-color: #174EA6;\n",
              "      --disabled-fill-color: #AAA;\n",
              "      --disabled-bg-color: #DDD;\n",
              "  }\n",
              "\n",
              "  [theme=dark] .colab-df-quickchart {\n",
              "      --bg-color: #3B4455;\n",
              "      --fill-color: #D2E3FC;\n",
              "      --hover-bg-color: #434B5C;\n",
              "      --hover-fill-color: #FFFFFF;\n",
              "      --disabled-bg-color: #3B4455;\n",
              "      --disabled-fill-color: #666;\n",
              "  }\n",
              "\n",
              "  .colab-df-quickchart {\n",
              "    background-color: var(--bg-color);\n",
              "    border: none;\n",
              "    border-radius: 50%;\n",
              "    cursor: pointer;\n",
              "    display: none;\n",
              "    fill: var(--fill-color);\n",
              "    height: 32px;\n",
              "    padding: 0;\n",
              "    width: 32px;\n",
              "  }\n",
              "\n",
              "  .colab-df-quickchart:hover {\n",
              "    background-color: var(--hover-bg-color);\n",
              "    box-shadow: 0 1px 2px rgba(60, 64, 67, 0.3), 0 1px 3px 1px rgba(60, 64, 67, 0.15);\n",
              "    fill: var(--button-hover-fill-color);\n",
              "  }\n",
              "\n",
              "  .colab-df-quickchart-complete:disabled,\n",
              "  .colab-df-quickchart-complete:disabled:hover {\n",
              "    background-color: var(--disabled-bg-color);\n",
              "    fill: var(--disabled-fill-color);\n",
              "    box-shadow: none;\n",
              "  }\n",
              "\n",
              "  .colab-df-spinner {\n",
              "    border: 2px solid var(--fill-color);\n",
              "    border-color: transparent;\n",
              "    border-bottom-color: var(--fill-color);\n",
              "    animation:\n",
              "      spin 1s steps(1) infinite;\n",
              "  }\n",
              "\n",
              "  @keyframes spin {\n",
              "    0% {\n",
              "      border-color: transparent;\n",
              "      border-bottom-color: var(--fill-color);\n",
              "      border-left-color: var(--fill-color);\n",
              "    }\n",
              "    20% {\n",
              "      border-color: transparent;\n",
              "      border-left-color: var(--fill-color);\n",
              "      border-top-color: var(--fill-color);\n",
              "    }\n",
              "    30% {\n",
              "      border-color: transparent;\n",
              "      border-left-color: var(--fill-color);\n",
              "      border-top-color: var(--fill-color);\n",
              "      border-right-color: var(--fill-color);\n",
              "    }\n",
              "    40% {\n",
              "      border-color: transparent;\n",
              "      border-right-color: var(--fill-color);\n",
              "      border-top-color: var(--fill-color);\n",
              "    }\n",
              "    60% {\n",
              "      border-color: transparent;\n",
              "      border-right-color: var(--fill-color);\n",
              "    }\n",
              "    80% {\n",
              "      border-color: transparent;\n",
              "      border-right-color: var(--fill-color);\n",
              "      border-bottom-color: var(--fill-color);\n",
              "    }\n",
              "    90% {\n",
              "      border-color: transparent;\n",
              "      border-bottom-color: var(--fill-color);\n",
              "    }\n",
              "  }\n",
              "</style>\n",
              "\n",
              "  <script>\n",
              "    async function quickchart(key) {\n",
              "      const quickchartButtonEl =\n",
              "        document.querySelector('#' + key + ' button');\n",
              "      quickchartButtonEl.disabled = true;  // To prevent multiple clicks.\n",
              "      quickchartButtonEl.classList.add('colab-df-spinner');\n",
              "      try {\n",
              "        const charts = await google.colab.kernel.invokeFunction(\n",
              "            'suggestCharts', [key], {});\n",
              "      } catch (error) {\n",
              "        console.error('Error during call to suggestCharts:', error);\n",
              "      }\n",
              "      quickchartButtonEl.classList.remove('colab-df-spinner');\n",
              "      quickchartButtonEl.classList.add('colab-df-quickchart-complete');\n",
              "    }\n",
              "    (() => {\n",
              "      let quickchartButtonEl =\n",
              "        document.querySelector('#df-ece80deb-6c99-4139-ab35-833b876df930 button');\n",
              "      quickchartButtonEl.style.display =\n",
              "        google.colab.kernel.accessAllowed ? 'block' : 'none';\n",
              "    })();\n",
              "  </script>\n",
              "</div>\n",
              "    </div>\n",
              "  </div>\n"
            ],
            "application/vnd.google.colaboratory.intrinsic+json": {
              "type": "dataframe",
              "summary": "{\n  \"name\": \"metrics_df\",\n  \"rows\": 10,\n  \"fields\": [\n    {\n      \"column\": 0,\n      \"properties\": {\n        \"dtype\": \"string\",\n        \"num_unique_values\": 6,\n        \"samples\": [\n          \"knn\",\n          0.9864864864864865,\n          0.011518661518661544\n        ],\n        \"semantic_type\": \"\",\n        \"description\": \"\"\n      }\n    },\n    {\n      \"column\": 1,\n      \"properties\": {\n        \"dtype\": \"category\",\n        \"num_unique_values\": 3,\n        \"samples\": [\n          \"logreg\",\n          1.0,\n          0.0\n        ],\n        \"semantic_type\": \"\",\n        \"description\": \"\"\n      }\n    }\n  ]\n}"
            }
          },
          "metadata": {},
          "execution_count": 38
        }
      ]
    },
    {
      "cell_type": "markdown",
      "source": [
        "\n",
        "Обе модели показывают высокие значения точности и полноты как на тренировочных, так и на тестовых данных.\n",
        "Значения метрик почти идентичны, значит, модели не переобучены.\n",
        "Значения AUC ROC высоки, значит, модели хорошо различают классы.\n",
        "KNN показывает высокие результаты, логистическая регрессия показывает идеальные значения метрик, поэтому имеет незначительное преимущество."
      ],
      "metadata": {
        "id": "6HVDYe0b9idw"
      }
    }
  ]
}
